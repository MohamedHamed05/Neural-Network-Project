{
 "cells": [
  {
   "cell_type": "code",
   "execution_count": 3,
   "metadata": {
    "execution": {
     "iopub.execute_input": "2025-05-12T23:33:56.259794Z",
     "iopub.status.busy": "2025-05-12T23:33:56.259239Z",
     "iopub.status.idle": "2025-05-12T23:34:00.719947Z",
     "shell.execute_reply": "2025-05-12T23:34:00.719221Z",
     "shell.execute_reply.started": "2025-05-12T23:33:56.259771Z"
    },
    "trusted": true
   },
   "outputs": [
    {
     "name": "stdout",
     "output_type": "stream",
     "text": [
      "Requirement already satisfied: emoji in /usr/local/lib/python3.11/dist-packages (2.14.1)\n",
      "Collecting contractions\n",
      "  Downloading contractions-0.1.73-py2.py3-none-any.whl.metadata (1.2 kB)\n",
      "Collecting textsearch>=0.0.21 (from contractions)\n",
      "  Downloading textsearch-0.0.24-py2.py3-none-any.whl.metadata (1.2 kB)\n",
      "Collecting anyascii (from textsearch>=0.0.21->contractions)\n",
      "  Downloading anyascii-0.3.2-py3-none-any.whl.metadata (1.5 kB)\n",
      "Collecting pyahocorasick (from textsearch>=0.0.21->contractions)\n",
      "  Downloading pyahocorasick-2.1.0-cp311-cp311-manylinux_2_17_x86_64.manylinux2014_x86_64.whl.metadata (13 kB)\n",
      "Downloading contractions-0.1.73-py2.py3-none-any.whl (8.7 kB)\n",
      "Downloading textsearch-0.0.24-py2.py3-none-any.whl (7.6 kB)\n",
      "Downloading anyascii-0.3.2-py3-none-any.whl (289 kB)\n",
      "\u001b[2K   \u001b[90m━━━━━━━━━━━━━━━━━━━━━━━━━━━━━━━━━━━━━━━━\u001b[0m \u001b[32m289.9/289.9 kB\u001b[0m \u001b[31m5.9 MB/s\u001b[0m eta \u001b[36m0:00:00\u001b[0ma \u001b[36m0:00:01\u001b[0m\n",
      "\u001b[?25hDownloading pyahocorasick-2.1.0-cp311-cp311-manylinux_2_17_x86_64.manylinux2014_x86_64.whl (118 kB)\n",
      "\u001b[2K   \u001b[90m━━━━━━━━━━━━━━━━━━━━━━━━━━━━━━━━━━━━━━━━\u001b[0m \u001b[32m118.3/118.3 kB\u001b[0m \u001b[31m10.4 MB/s\u001b[0m eta \u001b[36m0:00:00\u001b[0m\n",
      "\u001b[?25hInstalling collected packages: pyahocorasick, anyascii, textsearch, contractions\n",
      "Successfully installed anyascii-0.3.2 contractions-0.1.73 pyahocorasick-2.1.0 textsearch-0.0.24\n"
     ]
    }
   ],
   "source": [
    "!pip install emoji contractions"
   ]
  },
  {
   "cell_type": "code",
   "execution_count": 4,
   "metadata": {
    "execution": {
     "iopub.execute_input": "2025-05-12T23:34:02.535686Z",
     "iopub.status.busy": "2025-05-12T23:34:02.535390Z",
     "iopub.status.idle": "2025-05-12T23:34:15.384308Z",
     "shell.execute_reply": "2025-05-12T23:34:15.383539Z",
     "shell.execute_reply.started": "2025-05-12T23:34:02.535661Z"
    },
    "trusted": true
   },
   "outputs": [
    {
     "name": "stderr",
     "output_type": "stream",
     "text": [
      "2025-05-12 23:34:04.522186: E external/local_xla/xla/stream_executor/cuda/cuda_fft.cc:477] Unable to register cuFFT factory: Attempting to register factory for plugin cuFFT when one has already been registered\n",
      "WARNING: All log messages before absl::InitializeLog() is called are written to STDERR\n",
      "E0000 00:00:1747092844.722241      32 cuda_dnn.cc:8310] Unable to register cuDNN factory: Attempting to register factory for plugin cuDNN when one has already been registered\n",
      "E0000 00:00:1747092844.777411      32 cuda_blas.cc:1418] Unable to register cuBLAS factory: Attempting to register factory for plugin cuBLAS when one has already been registered\n"
     ]
    }
   ],
   "source": [
    "import pandas as pd\n",
    "import numpy as np\n",
    "import re\n",
    "import nltk\n",
    "import emoji\n",
    "import contractions\n",
    "from nltk.tokenize import word_tokenize\n",
    "from nltk.corpus import stopwords\n",
    "from nltk.stem import WordNetLemmatizer\n",
    "import string\n",
    "import matplotlib.pyplot as plt\n",
    "import seaborn as sns\n",
    "import os\n",
    "import zipfile\n",
    "from sklearn.model_selection import train_test_split\n",
    "from sklearn.feature_extraction.text import CountVectorizer , TfidfVectorizer\n",
    "from sklearn.ensemble import RandomForestClassifier\n",
    "from sklearn.utils import class_weight\n",
    "from sklearn.metrics import f1_score , classification_report , confusion_matrix\n",
    "from tensorflow.keras.preprocessing.text import Tokenizer\n",
    "from tensorflow.keras.utils import pad_sequences\n",
    "from tensorflow.keras.models import Sequential\n",
    "from tensorflow.keras.regularizers import l2\n",
    "from tensorflow.keras.layers import Embedding, SpatialDropout1D, Conv1D, MaxPooling1D, Bidirectional, LSTM, Dense, Dropout\n",
    "from tensorflow.keras.losses import BinaryFocalCrossentropy\n",
    "from tensorflow.keras.optimizers import Adam\n",
    "from tensorflow.keras.metrics import Precision , Recall , F1Score\n",
    "from tensorflow.keras.callbacks import Callback"
   ]
  },
  {
   "cell_type": "code",
   "execution_count": 67,
   "metadata": {
    "execution": {
     "iopub.execute_input": "2025-05-11T16:24:47.337433Z",
     "iopub.status.busy": "2025-05-11T16:24:47.337173Z",
     "iopub.status.idle": "2025-05-11T16:24:47.346581Z",
     "shell.execute_reply": "2025-05-11T16:24:47.345961Z",
     "shell.execute_reply.started": "2025-05-11T16:24:47.337412Z"
    },
    "trusted": true
   },
   "outputs": [],
   "source": [
    "!wget --no-check-certificate http://nlp.stanford.edu/data/glove.6B.zip -O /kaggle/working/glove.6B.zip"
   ]
  },
  {
   "cell_type": "code",
   "execution_count": 5,
   "metadata": {
    "execution": {
     "iopub.execute_input": "2025-05-12T23:34:15.386035Z",
     "iopub.status.busy": "2025-05-12T23:34:15.385451Z",
     "iopub.status.idle": "2025-05-12T23:34:15.943473Z",
     "shell.execute_reply": "2025-05-12T23:34:15.942748Z",
     "shell.execute_reply.started": "2025-05-12T23:34:15.386009Z"
    },
    "trusted": true
   },
   "outputs": [
    {
     "name": "stderr",
     "output_type": "stream",
     "text": [
      "[nltk_data] Downloading package punkt to /usr/share/nltk_data...\n",
      "[nltk_data]   Package punkt is already up-to-date!\n",
      "[nltk_data] Downloading package punkt_tab to /usr/share/nltk_data...\n",
      "[nltk_data]   Package punkt_tab is already up-to-date!\n",
      "[nltk_data] Downloading package stopwords to /usr/share/nltk_data...\n",
      "[nltk_data]   Package stopwords is already up-to-date!\n",
      "[nltk_data] Downloading package wordnet to /usr/share/nltk_data...\n",
      "[nltk_data]   Package wordnet is already up-to-date!\n",
      "[nltk_data] Downloading package omw-1.4 to /usr/share/nltk_data...\n"
     ]
    },
    {
     "data": {
      "text/plain": [
       "True"
      ]
     },
     "execution_count": 5,
     "metadata": {},
     "output_type": "execute_result"
    }
   ],
   "source": [
    "nltk.download('punkt')\n",
    "nltk.download('punkt_tab')\n",
    "nltk.download('stopwords')\n",
    "nltk.download('wordnet')\n",
    "nltk.download('omw-1.4')"
   ]
  },
  {
   "cell_type": "code",
   "execution_count": 68,
   "metadata": {
    "execution": {
     "iopub.execute_input": "2025-05-11T16:24:47.348198Z",
     "iopub.status.busy": "2025-05-11T16:24:47.347786Z",
     "iopub.status.idle": "2025-05-11T16:24:47.356965Z",
     "shell.execute_reply": "2025-05-11T16:24:47.356346Z",
     "shell.execute_reply.started": "2025-05-11T16:24:47.348182Z"
    },
    "trusted": true
   },
   "outputs": [],
   "source": [
    "#Extract the GloVe files\n",
    "with zipfile.ZipFile('/kaggle/working/glove.6B.zip', 'r') as zip_ref:\n",
    "    zip_ref.extractall('/kaggle/working/glove')"
   ]
  },
  {
   "cell_type": "code",
   "execution_count": 6,
   "metadata": {
    "execution": {
     "iopub.execute_input": "2025-05-12T23:35:16.573671Z",
     "iopub.status.busy": "2025-05-12T23:35:16.573367Z",
     "iopub.status.idle": "2025-05-12T23:35:16.587451Z",
     "shell.execute_reply": "2025-05-12T23:35:16.586769Z",
     "shell.execute_reply.started": "2025-05-12T23:35:16.573650Z"
    },
    "trusted": true
   },
   "outputs": [],
   "source": [
    "slang_dict = {\n",
    "    \"$\" : \" dollar \",\n",
    "    \"€\" : \" euro \",\n",
    "    \"4ao\" : \"for adults only\",\n",
    "    \"a.m\" : \"before midday\",\n",
    "    \"a3\" : \"anytime anywhere anyplace\",\n",
    "    \"aamof\" : \"as a matter of fact\",\n",
    "    \"acct\" : \"account\",\n",
    "    \"adih\" : \"another day in hell\",\n",
    "    \"afaic\" : \"as far as i am concerned\",\n",
    "    \"afaict\" : \"as far as i can tell\",\n",
    "    \"afaik\" : \"as far as i know\",\n",
    "    \"afair\" : \"as far as i remember\",\n",
    "    \"afk\" : \"away from keyboard\",\n",
    "    \"app\" : \"application\",\n",
    "    \"approx\" : \"approximately\",\n",
    "    \"apps\" : \"applications\",\n",
    "    \"asap\" : \"as soon as possible\",\n",
    "    \"asl\" : \"age, sex, location\",\n",
    "    \"atk\" : \"at the keyboard\",\n",
    "    \"ave.\" : \"avenue\",\n",
    "    \"aymm\" : \"are you my mother\",\n",
    "    \"ayor\" : \"at your own risk\",\n",
    "    \"b&b\" : \"bed and breakfast\",\n",
    "    \"b+b\" : \"bed and breakfast\",\n",
    "    \"b.c\" : \"before christ\",\n",
    "    \"b2b\" : \"business to business\",\n",
    "    \"b2c\" : \"business to customer\",\n",
    "    \"b4\" : \"before\",\n",
    "    \"b4n\" : \"bye for now\",\n",
    "    \"b@u\" : \"back at you\",\n",
    "    \"bae\" : \"before anyone else\",\n",
    "    \"bak\" : \"back at keyboard\",\n",
    "    \"bbbg\" : \"bye bye be good\",\n",
    "    \"bbc\" : \"british broadcasting corporation\",\n",
    "    \"bbias\" : \"be back in a second\",\n",
    "    \"bbl\" : \"be back later\",\n",
    "    \"bbs\" : \"be back soon\",\n",
    "    \"be4\" : \"before\",\n",
    "    \"bfn\" : \"bye for now\",\n",
    "    \"blvd\" : \"boulevard\",\n",
    "    \"bout\" : \"about\",\n",
    "    \"brb\" : \"be right back\",\n",
    "    \"bros\" : \"brothers\",\n",
    "    \"brt\" : \"be right there\",\n",
    "    \"bsaaw\" : \"big smile and a wink\",\n",
    "    \"btw\" : \"by the way\",\n",
    "    \"bwl\" : \"bursting with laughter\",\n",
    "    \"c/o\" : \"care of\",\n",
    "    \"cet\" : \"central european time\",\n",
    "    \"cf\" : \"compare\",\n",
    "    \"cia\" : \"central intelligence agency\",\n",
    "    \"csl\" : \"can not stop laughing\",\n",
    "    \"cu\" : \"see you\",\n",
    "    \"cul8r\" : \"see you later\",\n",
    "    \"cv\" : \"curriculum vitae\",\n",
    "    \"cwot\" : \"complete waste of time\",\n",
    "    \"cya\" : \"see you\",\n",
    "    \"cyt\" : \"see you tomorrow\",\n",
    "    \"dae\" : \"does anyone else\",\n",
    "    \"dbmib\" : \"do not bother me i am busy\",\n",
    "    \"diy\" : \"do it yourself\",\n",
    "    \"dm\" : \"direct message\",\n",
    "    \"dwh\" : \"during work hours\",\n",
    "    \"e123\" : \"easy as one two three\",\n",
    "    \"eet\" : \"eastern european time\",\n",
    "    \"eg\" : \"example\",\n",
    "    \"embm\" : \"early morning business meeting\",\n",
    "    \"encl\" : \"enclosed\",\n",
    "    \"encl.\" : \"enclosed\",\n",
    "    \"etc\" : \"and so on\",\n",
    "    \"faq\" : \"frequently asked questions\",\n",
    "    \"fawc\" : \"for anyone who cares\",\n",
    "    \"fb\" : \"facebook\",\n",
    "    \"fc\" : \"fingers crossed\",\n",
    "    \"fig\" : \"figure\",\n",
    "    \"fimh\" : \"forever in my heart\",\n",
    "    \"ft.\" : \"feet\",\n",
    "    \"ft\" : \"featuring\",\n",
    "    \"ftl\" : \"for the loss\",\n",
    "    \"ftw\" : \"for the win\",\n",
    "    \"fwiw\" : \"for what it is worth\",\n",
    "    \"fyi\" : \"for your information\",\n",
    "    \"g9\" : \"genius\",\n",
    "    \"gahoy\" : \"get a hold of yourself\",\n",
    "    \"gal\" : \"get a life\",\n",
    "    \"gcse\" : \"general certificate of secondary education\",\n",
    "    \"gfn\" : \"gone for now\",\n",
    "    \"gg\" : \"good game\",\n",
    "    \"gl\" : \"good luck\",\n",
    "    \"glhf\" : \"good luck have fun\",\n",
    "    \"gmt\" : \"greenwich mean time\",\n",
    "    \"gmta\" : \"great minds think alike\",\n",
    "    \"gn\" : \"good night\",\n",
    "    \"g.o.a.t\" : \"greatest of all time\",\n",
    "    \"goat\" : \"greatest of all time\",\n",
    "    \"goi\" : \"get over it\",\n",
    "    \"gps\" : \"global positioning system\",\n",
    "    \"gr8\" : \"great\",\n",
    "    \"gratz\" : \"congratulations\",\n",
    "    \"gyal\" : \"girl\",\n",
    "    \"h&c\" : \"hot and cold\",\n",
    "    \"hp\" : \"horsepower\",\n",
    "    \"hr\" : \"hour\",\n",
    "    \"hrh\" : \"his royal highness\",\n",
    "    \"ht\" : \"height\",\n",
    "    \"ibrb\" : \"i will be right back\",\n",
    "    \"im\" : \"i am\",\n",
    "    \"ic\" : \"i see\",\n",
    "    \"icq\" : \"i seek you\",\n",
    "    \"icymi\" : \"in case you missed it\",\n",
    "    \"idc\" : \"i do not care\",\n",
    "    \"idgadf\" : \"i do not give a damn fuck\",\n",
    "    \"idgaf\" : \"i do not give a fuck\",\n",
    "    \"idk\" : \"i do not know\",\n",
    "    \"ie\" : \"that is\",\n",
    "    \"i.e\" : \"that is\",\n",
    "    \"ifyp\" : \"i feel your pain\",\n",
    "    \"IG\" : \"instagram\",\n",
    "    \"iirc\" : \"if i remember correctly\",\n",
    "    \"ilu\" : \"i love you\",\n",
    "    \"ily\" : \"i love you\",\n",
    "    \"imho\" : \"in my humble opinion\",\n",
    "    \"imo\" : \"in my opinion\",\n",
    "    \"imu\" : \"i miss you\",\n",
    "    \"iow\" : \"in other words\",\n",
    "    \"irl\" : \"in real life\",\n",
    "    \"j4f\" : \"just for fun\",\n",
    "    \"jic\" : \"just in case\",\n",
    "    \"jk\" : \"just kidding\",\n",
    "    \"jsyk\" : \"just so you know\",\n",
    "    \"l8r\" : \"later\",\n",
    "    \"lb\" : \"pound\",\n",
    "    \"lbs\" : \"pounds\",\n",
    "    \"ldr\" : \"long distance relationship\",\n",
    "    \"lmao\" : \"laugh my ass off\",\n",
    "    \"lmfao\" : \"laugh my fucking ass off\",\n",
    "    \"lol\" : \"laughing out loud\",\n",
    "    \"ltd\" : \"limited\",\n",
    "    \"ltns\" : \"long time no see\",\n",
    "    \"m8\" : \"mate\",\n",
    "    \"mf\" : \"motherfucker\",\n",
    "    \"mfs\" : \"motherfuckers\",\n",
    "    \"mfw\" : \"my face when\",\n",
    "    \"mofo\" : \"motherfucker\",\n",
    "    \"mph\" : \"miles per hour\",\n",
    "    \"mr\" : \"mister\",\n",
    "    \"mrw\" : \"my reaction when\",\n",
    "    \"ms\" : \"miss\",\n",
    "    \"mte\" : \"my thoughts exactly\",\n",
    "    \"nagi\" : \"not a good idea\",\n",
    "    \"nbc\" : \"national broadcasting company\",\n",
    "    \"nbd\" : \"not big deal\",\n",
    "    \"nfs\" : \"not for sale\",\n",
    "    \"ngl\" : \"not going to lie\",\n",
    "    \"nhs\" : \"national health service\",\n",
    "    \"nrn\" : \"no reply necessary\",\n",
    "    \"nsfl\" : \"not safe for life\",\n",
    "    \"nsfw\" : \"not safe for work\",\n",
    "    \"nth\" : \"nice to have\",\n",
    "    \"nvr\" : \"never\",\n",
    "    \"nyc\" : \"new york city\",\n",
    "    \"oc\" : \"original content\",\n",
    "    \"og\" : \"original\",\n",
    "    \"ohp\" : \"overhead projector\",\n",
    "    \"oic\" : \"oh i see\",\n",
    "    \"omdb\" : \"over my dead body\",\n",
    "    \"omg\" : \"oh my god\",\n",
    "    \"omw\" : \"on my way\",\n",
    "    \"p.a\" : \"per annum\",\n",
    "    \"p.m\" : \"after midday\",\n",
    "    \"pm\" : \"prime minister\",\n",
    "    \"poc\" : \"people of color\",\n",
    "    \"pov\" : \"point of view\",\n",
    "    \"pp\" : \"pages\",\n",
    "    \"ppl\" : \"people\",\n",
    "    \"prw\" : \"parents are watching\",\n",
    "    \"ps\" : \"postscript\",\n",
    "    \"pt\" : \"point\",\n",
    "    \"ptb\" : \"please text back\",\n",
    "    \"pto\" : \"please turn over\",\n",
    "    \"qpsa\" : \"what happens\", #\"que pasa\",\n",
    "    \"ratchet\" : \"rude\",\n",
    "    \"rbtl\" : \"read between the lines\",\n",
    "    \"rlrt\" : \"real life retweet\",\n",
    "    \"rofl\" : \"rolling on the floor laughing\",\n",
    "    \"roflol\" : \"rolling on the floor laughing out loud\",\n",
    "    \"rotflmao\" : \"rolling on the floor laughing my ass off\",\n",
    "    \"rt\" : \"retweet\",\n",
    "    \"ruok\" : \"are you ok\",\n",
    "    \"sfw\" : \"safe for work\",\n",
    "    \"sk8\" : \"skate\",\n",
    "    \"smh\" : \"shake my head\",\n",
    "    \"sq\" : \"square\",\n",
    "    \"srsly\" : \"seriously\",\n",
    "    \"ssdd\" : \"same stuff different day\",\n",
    "    \"tbh\" : \"to be honest\",\n",
    "    \"tbs\" : \"tablespooful\",\n",
    "    \"tbsp\" : \"tablespooful\",\n",
    "    \"tfw\" : \"that feeling when\",\n",
    "    \"thks\" : \"thank you\",\n",
    "    \"tho\" : \"though\",\n",
    "    \"thx\" : \"thank you\",\n",
    "    \"tia\" : \"thanks in advance\",\n",
    "    \"til\" : \"today i learned\",\n",
    "    \"tl;dr\" : \"too long i did not read\",\n",
    "    \"tldr\" : \"too long i did not read\",\n",
    "    \"tmb\" : \"tweet me back\",\n",
    "    \"tntl\" : \"trying not to laugh\",\n",
    "    \"ttyl\" : \"talk to you later\",\n",
    "    \"u\" : \"you\",\n",
    "    \"u2\" : \"you too\",\n",
    "    \"u4e\" : \"yours for ever\",\n",
    "    \"utc\" : \"coordinated universal time\",\n",
    "    \"w/\" : \"with\",\n",
    "    \"w/o\" : \"without\",\n",
    "    \"w8\" : \"wait\",\n",
    "    \"wassup\" : \"what is up\",\n",
    "    \"wb\" : \"welcome back\",\n",
    "    \"wtf\" : \"what the fuck\",\n",
    "    \"wtg\" : \"way to go\",\n",
    "    \"wtpa\" : \"where the party at\",\n",
    "    \"wuf\" : \"where are you from\",\n",
    "    \"wuzup\" : \"what is up\",\n",
    "    \"wywh\" : \"wish you were here\",\n",
    "    \"yd\" : \"yard\",\n",
    "    \"ygtr\" : \"you got that right\",\n",
    "    \"ynk\" : \"you never know\",\n",
    "    \"zzz\" : \"sleeping bored and tired\"\n",
    "}"
   ]
  },
  {
   "cell_type": "markdown",
   "metadata": {},
   "source": [
    "### Preprocessing"
   ]
  },
  {
   "cell_type": "code",
   "execution_count": null,
   "metadata": {
    "execution": {
     "iopub.execute_input": "2025-05-12T23:35:22.546309Z",
     "iopub.status.busy": "2025-05-12T23:35:22.546045Z",
     "iopub.status.idle": "2025-05-12T23:35:22.552574Z",
     "shell.execute_reply": "2025-05-12T23:35:22.551807Z",
     "shell.execute_reply.started": "2025-05-12T23:35:22.546289Z"
    },
    "trusted": true
   },
   "outputs": [],
   "source": [
    "def preprocess_text(text):\n",
    "    if pd.isna(text): \n",
    "        return \"\"\n",
    "\n",
    "    text = text.lower() #convert to lowercase\n",
    "    text = emoji.demojize(text) #convert emojis to alternative text\n",
    "    text = text.replace(\":\", \"\").replace(\"_\", \" \") #remove colons and underscores\n",
    "    text = contractions.fix(text) #expand contractions EX: \"don't\" to \"do not\"\n",
    "    \n",
    "    #we split the text to check for slang words and replace them\n",
    "    words = text.split() \n",
    "    processed_words = []\n",
    "    for word in words:\n",
    "        word_cleaned = word.strip(string.punctuation)\n",
    "        if word_cleaned.lower() in slang_dict:\n",
    "            processed_words.append(slang_dict[word_cleaned.lower()])\n",
    "        else:\n",
    "            processed_words.append(word)\n",
    "        text = \" \".join(processed_words)\n",
    "\n",
    "        text = re.sub(r'http\\S+|www\\S+|https\\S+', '', text) #remove URLS\n",
    "        text = re.sub(r'[^\\w\\s\\.\\!\\?]', ' ', text) #remove special characters\n",
    "        text = re.sub(r'\\s+', ' ', text).strip() #remove extra spaces\n",
    "\n",
    "        tokens = word_tokenize(text) #tokenizing the text\n",
    "\n",
    "        stop_words = set(stopwords.words('english')) #remove stop words\n",
    "        tokens = [token for token in tokens if token not in stop_words and len(token) > 1]\n",
    "\n",
    "        lemmatizer = WordNetLemmatizer() #lemmatizing the tokens\n",
    "        tokens = [lemmatizer.lemmatize(token) for token in tokens]\n",
    "\n",
    "    return \" \".join(tokens)"
   ]
  },
  {
   "cell_type": "code",
   "execution_count": 8,
   "metadata": {
    "execution": {
     "iopub.execute_input": "2025-05-12T23:35:29.671847Z",
     "iopub.status.busy": "2025-05-12T23:35:29.671094Z",
     "iopub.status.idle": "2025-05-12T23:35:30.585406Z",
     "shell.execute_reply": "2025-05-12T23:35:30.584805Z",
     "shell.execute_reply.started": "2025-05-12T23:35:29.671794Z"
    },
    "trusted": true
   },
   "outputs": [
    {
     "data": {
      "text/html": [
       "<div>\n",
       "<style scoped>\n",
       "    .dataframe tbody tr th:only-of-type {\n",
       "        vertical-align: middle;\n",
       "    }\n",
       "\n",
       "    .dataframe tbody tr th {\n",
       "        vertical-align: top;\n",
       "    }\n",
       "\n",
       "    .dataframe thead th {\n",
       "        text-align: right;\n",
       "    }\n",
       "</style>\n",
       "<table border=\"1\" class=\"dataframe\">\n",
       "  <thead>\n",
       "    <tr style=\"text-align: right;\">\n",
       "      <th></th>\n",
       "      <th>Unnamed: 0</th>\n",
       "      <th>attraction</th>\n",
       "      <th>rate</th>\n",
       "      <th>date</th>\n",
       "      <th>review</th>\n",
       "      <th>sentiment</th>\n",
       "      <th>processed_review</th>\n",
       "      <th>review_length</th>\n",
       "      <th>word_count</th>\n",
       "      <th>year</th>\n",
       "      <th>...</th>\n",
       "      <th>negation_count</th>\n",
       "      <th>negation_ratio</th>\n",
       "      <th>has_mixed_sentiment</th>\n",
       "      <th>sentiment_binary</th>\n",
       "      <th>sentiment_score_binary</th>\n",
       "      <th>sentiment_vader</th>\n",
       "      <th>sentiment_score_vader</th>\n",
       "      <th>sentiment_binary_distil</th>\n",
       "      <th>sentiment_score_binary_distil</th>\n",
       "      <th>sentiment_ensemble</th>\n",
       "    </tr>\n",
       "  </thead>\n",
       "  <tbody>\n",
       "    <tr>\n",
       "      <th>0</th>\n",
       "      <td>0</td>\n",
       "      <td>Pyramids of Giza</td>\n",
       "      <td>5.0</td>\n",
       "      <td>2025-02-17</td>\n",
       "      <td>Well worth going to visit. If you are getting ...</td>\n",
       "      <td>1</td>\n",
       "      <td>well worth going visit getting tour fantastic ...</td>\n",
       "      <td>255</td>\n",
       "      <td>49</td>\n",
       "      <td>2025</td>\n",
       "      <td>...</td>\n",
       "      <td>0</td>\n",
       "      <td>0.000000</td>\n",
       "      <td>True</td>\n",
       "      <td>positive</td>\n",
       "      <td>0.998857</td>\n",
       "      <td>positive</td>\n",
       "      <td>0.8357</td>\n",
       "      <td>non_positive</td>\n",
       "      <td>0.671923</td>\n",
       "      <td>positive</td>\n",
       "    </tr>\n",
       "    <tr>\n",
       "      <th>1</th>\n",
       "      <td>1</td>\n",
       "      <td>Pyramids of Giza</td>\n",
       "      <td>5.0</td>\n",
       "      <td>2025-02-15</td>\n",
       "      <td>The splendor of the pyramidsThe Seven Wonders ...</td>\n",
       "      <td>1</td>\n",
       "      <td>splendor pyramidsthe seven wonder world seen p...</td>\n",
       "      <td>137</td>\n",
       "      <td>23</td>\n",
       "      <td>2025</td>\n",
       "      <td>...</td>\n",
       "      <td>0</td>\n",
       "      <td>0.000000</td>\n",
       "      <td>False</td>\n",
       "      <td>positive</td>\n",
       "      <td>0.998818</td>\n",
       "      <td>positive</td>\n",
       "      <td>0.7184</td>\n",
       "      <td>positive</td>\n",
       "      <td>0.999620</td>\n",
       "      <td>positive</td>\n",
       "    </tr>\n",
       "    <tr>\n",
       "      <th>2</th>\n",
       "      <td>2</td>\n",
       "      <td>Pyramids of Giza</td>\n",
       "      <td>5.0</td>\n",
       "      <td>2025-02-13</td>\n",
       "      <td>The pyramids are among the most beautiful arch...</td>\n",
       "      <td>1</td>\n",
       "      <td>pyramid among beautiful archaeological site wo...</td>\n",
       "      <td>574</td>\n",
       "      <td>90</td>\n",
       "      <td>2025</td>\n",
       "      <td>...</td>\n",
       "      <td>0</td>\n",
       "      <td>0.000000</td>\n",
       "      <td>False</td>\n",
       "      <td>positive</td>\n",
       "      <td>0.998801</td>\n",
       "      <td>positive</td>\n",
       "      <td>0.9524</td>\n",
       "      <td>positive</td>\n",
       "      <td>0.999869</td>\n",
       "      <td>positive</td>\n",
       "    </tr>\n",
       "    <tr>\n",
       "      <th>3</th>\n",
       "      <td>3</td>\n",
       "      <td>Pyramids of Giza</td>\n",
       "      <td>5.0</td>\n",
       "      <td>2025-02-09</td>\n",
       "      <td>yes it crowded, yes there is some tourist trap...</td>\n",
       "      <td>1</td>\n",
       "      <td>yes crowded yes tourist trap yes queue frustra...</td>\n",
       "      <td>310</td>\n",
       "      <td>57</td>\n",
       "      <td>2025</td>\n",
       "      <td>...</td>\n",
       "      <td>0</td>\n",
       "      <td>0.000000</td>\n",
       "      <td>False</td>\n",
       "      <td>positive</td>\n",
       "      <td>0.998868</td>\n",
       "      <td>positive</td>\n",
       "      <td>0.8020</td>\n",
       "      <td>positive</td>\n",
       "      <td>0.990586</td>\n",
       "      <td>positive</td>\n",
       "    </tr>\n",
       "    <tr>\n",
       "      <th>4</th>\n",
       "      <td>4</td>\n",
       "      <td>Pyramids of Giza</td>\n",
       "      <td>5.0</td>\n",
       "      <td>2025-02-07</td>\n",
       "      <td>History &amp; Mystery of The Pyramids, What a Day,...</td>\n",
       "      <td>1</td>\n",
       "      <td>history mystery pyramid day hit visit land leg...</td>\n",
       "      <td>131</td>\n",
       "      <td>23</td>\n",
       "      <td>2025</td>\n",
       "      <td>...</td>\n",
       "      <td>2</td>\n",
       "      <td>0.086957</td>\n",
       "      <td>True</td>\n",
       "      <td>positive</td>\n",
       "      <td>0.998885</td>\n",
       "      <td>positive</td>\n",
       "      <td>0.4667</td>\n",
       "      <td>positive</td>\n",
       "      <td>0.915993</td>\n",
       "      <td>positive</td>\n",
       "    </tr>\n",
       "  </tbody>\n",
       "</table>\n",
       "<p>5 rows × 24 columns</p>\n",
       "</div>"
      ],
      "text/plain": [
       "   Unnamed: 0        attraction  rate        date  \\\n",
       "0           0  Pyramids of Giza   5.0  2025-02-17   \n",
       "1           1  Pyramids of Giza   5.0  2025-02-15   \n",
       "2           2  Pyramids of Giza   5.0  2025-02-13   \n",
       "3           3  Pyramids of Giza   5.0  2025-02-09   \n",
       "4           4  Pyramids of Giza   5.0  2025-02-07   \n",
       "\n",
       "                                              review  sentiment  \\\n",
       "0  Well worth going to visit. If you are getting ...          1   \n",
       "1  The splendor of the pyramidsThe Seven Wonders ...          1   \n",
       "2  The pyramids are among the most beautiful arch...          1   \n",
       "3  yes it crowded, yes there is some tourist trap...          1   \n",
       "4  History & Mystery of The Pyramids, What a Day,...          1   \n",
       "\n",
       "                                    processed_review  review_length  \\\n",
       "0  well worth going visit getting tour fantastic ...            255   \n",
       "1  splendor pyramidsthe seven wonder world seen p...            137   \n",
       "2  pyramid among beautiful archaeological site wo...            574   \n",
       "3  yes crowded yes tourist trap yes queue frustra...            310   \n",
       "4  history mystery pyramid day hit visit land leg...            131   \n",
       "\n",
       "   word_count  year  ...  negation_count  negation_ratio  has_mixed_sentiment  \\\n",
       "0          49  2025  ...               0        0.000000                 True   \n",
       "1          23  2025  ...               0        0.000000                False   \n",
       "2          90  2025  ...               0        0.000000                False   \n",
       "3          57  2025  ...               0        0.000000                False   \n",
       "4          23  2025  ...               2        0.086957                 True   \n",
       "\n",
       "   sentiment_binary  sentiment_score_binary  sentiment_vader  \\\n",
       "0          positive                0.998857         positive   \n",
       "1          positive                0.998818         positive   \n",
       "2          positive                0.998801         positive   \n",
       "3          positive                0.998868         positive   \n",
       "4          positive                0.998885         positive   \n",
       "\n",
       "   sentiment_score_vader sentiment_binary_distil  \\\n",
       "0                 0.8357            non_positive   \n",
       "1                 0.7184                positive   \n",
       "2                 0.9524                positive   \n",
       "3                 0.8020                positive   \n",
       "4                 0.4667                positive   \n",
       "\n",
       "   sentiment_score_binary_distil sentiment_ensemble  \n",
       "0                       0.671923           positive  \n",
       "1                       0.999620           positive  \n",
       "2                       0.999869           positive  \n",
       "3                       0.990586           positive  \n",
       "4                       0.915993           positive  \n",
       "\n",
       "[5 rows x 24 columns]"
      ]
     },
     "execution_count": 8,
     "metadata": {},
     "output_type": "execute_result"
    }
   ],
   "source": [
    "df = pd.read_csv('/kaggle/input/tourismmm/labeled_tourism_reviews_binary (1).csv')\n",
    "df.head()"
   ]
  },
  {
   "cell_type": "markdown",
   "metadata": {},
   "source": [
    "### Balancing the Dataset\n",
    "* we choose from every attraction site a smple of positive reviews \n",
    "* if this attraction site has more than 200 reviews we choose random from them \n",
    "* if this sttraction site has less than 200 reviews we take them all"
   ]
  },
  {
   "cell_type": "code",
   "execution_count": null,
   "metadata": {
    "execution": {
     "iopub.execute_input": "2025-05-12T23:35:32.226277Z",
     "iopub.status.busy": "2025-05-12T23:35:32.226023Z",
     "iopub.status.idle": "2025-05-12T23:35:32.513833Z",
     "shell.execute_reply": "2025-05-12T23:35:32.513019Z",
     "shell.execute_reply.started": "2025-05-12T23:35:32.226259Z"
    },
    "trusted": true
   },
   "outputs": [],
   "source": [
    "new_df = df[df['sentiment_ensemble'] == 'non_positive']\n",
    "for i in df['attraction'].unique():\n",
    "    tmp = df[(df['attraction'] == i) & (df['sentiment_ensemble'] == 'positive')]\n",
    "    if tmp.shape[0] > 200:\n",
    "        tmp = tmp.sample(200 , random_state = 42)\n",
    "    new_df = pd.concat([new_df , tmp])"
   ]
  },
  {
   "cell_type": "code",
   "execution_count": 11,
   "metadata": {
    "execution": {
     "iopub.execute_input": "2025-05-12T23:35:45.758584Z",
     "iopub.status.busy": "2025-05-12T23:35:45.758129Z",
     "iopub.status.idle": "2025-05-12T23:43:16.232165Z",
     "shell.execute_reply": "2025-05-12T23:43:16.231563Z",
     "shell.execute_reply.started": "2025-05-12T23:35:45.758560Z"
    },
    "trusted": true
   },
   "outputs": [],
   "source": [
    "X = new_df['review'].apply(lambda x : preprocess_text(x))\n",
    "y = new_df['sentiment_ensemble'].map({'positive' : 1 , 'non_positive' : 0})"
   ]
  },
  {
   "cell_type": "markdown",
   "metadata": {},
   "source": [
    "### splitting the data"
   ]
  },
  {
   "cell_type": "code",
   "execution_count": 61,
   "metadata": {
    "execution": {
     "iopub.execute_input": "2025-05-13T00:11:53.794110Z",
     "iopub.status.busy": "2025-05-13T00:11:53.793519Z",
     "iopub.status.idle": "2025-05-13T00:11:53.804022Z",
     "shell.execute_reply": "2025-05-13T00:11:53.803382Z",
     "shell.execute_reply.started": "2025-05-13T00:11:53.794084Z"
    },
    "trusted": true
   },
   "outputs": [],
   "source": [
    "train_data , test_data , train_labels , test_labels = train_test_split(X , y  , test_size = 0.1 , random_state = 42 , stratify = y , shuffle = True)"
   ]
  },
  {
   "cell_type": "code",
   "execution_count": null,
   "metadata": {
    "execution": {
     "iopub.execute_input": "2025-05-13T00:11:59.190053Z",
     "iopub.status.busy": "2025-05-13T00:11:59.189457Z",
     "iopub.status.idle": "2025-05-13T00:11:59.193338Z",
     "shell.execute_reply": "2025-05-13T00:11:59.192547Z",
     "shell.execute_reply.started": "2025-05-13T00:11:59.190030Z"
    },
    "trusted": true
   },
   "outputs": [],
   "source": [
    "# converting to numpy arrays\n",
    "train_labels = train_labels.to_numpy()\n",
    "test_labels = test_labels.to_numpy()"
   ]
  },
  {
   "cell_type": "code",
   "execution_count": null,
   "metadata": {
    "execution": {
     "iopub.execute_input": "2025-05-13T00:12:00.563947Z",
     "iopub.status.busy": "2025-05-13T00:12:00.563650Z",
     "iopub.status.idle": "2025-05-13T00:12:01.752281Z",
     "shell.execute_reply": "2025-05-13T00:12:01.751727Z",
     "shell.execute_reply.started": "2025-05-13T00:12:00.563925Z"
    },
    "trusted": true
   },
   "outputs": [],
   "source": [
    "# we extract the most top 10000 frequent words from the reviews\n",
    "# but we do not use the words that appear in more than 90% of the reviews\n",
    "cv = CountVectorizer(ngram_range = (1 , 2) , max_df = 0.9 , max_features=10000)\n",
    "cv_train_data = cv.fit_transform(train_data)\n",
    "cv_test_data = cv.transform(test_data)"
   ]
  },
  {
   "cell_type": "code",
   "execution_count": 64,
   "metadata": {
    "execution": {
     "iopub.execute_input": "2025-05-13T00:12:02.089798Z",
     "iopub.status.busy": "2025-05-13T00:12:02.089533Z",
     "iopub.status.idle": "2025-05-13T00:12:02.094621Z",
     "shell.execute_reply": "2025-05-13T00:12:02.093964Z",
     "shell.execute_reply.started": "2025-05-13T00:12:02.089777Z"
    },
    "trusted": true
   },
   "outputs": [
    {
     "data": {
      "text/plain": [
       "(10517,)"
      ]
     },
     "execution_count": 64,
     "metadata": {},
     "output_type": "execute_result"
    }
   ],
   "source": [
    "train_labels.shape"
   ]
  },
  {
   "cell_type": "code",
   "execution_count": 65,
   "metadata": {
    "execution": {
     "iopub.execute_input": "2025-05-13T00:12:03.134052Z",
     "iopub.status.busy": "2025-05-13T00:12:03.133429Z",
     "iopub.status.idle": "2025-05-13T00:12:03.138959Z",
     "shell.execute_reply": "2025-05-13T00:12:03.138276Z",
     "shell.execute_reply.started": "2025-05-13T00:12:03.134023Z"
    },
    "trusted": true
   },
   "outputs": [
    {
     "data": {
      "text/plain": [
       "(1169,)"
      ]
     },
     "execution_count": 65,
     "metadata": {},
     "output_type": "execute_result"
    }
   ],
   "source": [
    "test_labels.shape"
   ]
  },
  {
   "cell_type": "code",
   "execution_count": 69,
   "metadata": {
    "execution": {
     "iopub.execute_input": "2025-05-13T00:12:15.076960Z",
     "iopub.status.busy": "2025-05-13T00:12:15.076687Z",
     "iopub.status.idle": "2025-05-13T00:12:16.301733Z",
     "shell.execute_reply": "2025-05-13T00:12:16.301189Z",
     "shell.execute_reply.started": "2025-05-13T00:12:15.076936Z"
    },
    "trusted": true
   },
   "outputs": [],
   "source": [
    "td_idf = TfidfVectorizer(ngram_range = (1 , 2) , max_df = 0.9 , max_features=10000)\n",
    "td_train_data = td_idf.fit_transform(train_data)\n",
    "td_test_data = td_idf.transform(test_data)"
   ]
  },
  {
   "cell_type": "markdown",
   "metadata": {},
   "source": [
    "### Modeling"
   ]
  },
  {
   "cell_type": "code",
   "execution_count": null,
   "metadata": {
    "execution": {
     "iopub.execute_input": "2025-05-11T16:24:48.257821Z",
     "iopub.status.busy": "2025-05-11T16:24:48.257588Z",
     "iopub.status.idle": "2025-05-11T16:24:56.183394Z",
     "shell.execute_reply": "2025-05-11T16:24:56.182747Z",
     "shell.execute_reply.started": "2025-05-11T16:24:48.257805Z"
    },
    "trusted": true
   },
   "outputs": [
    {
     "name": "stdout",
     "output_type": "stream",
     "text": [
      "Found 400000 word vectors.\n"
     ]
    }
   ],
   "source": [
    "# Load GloVe Word Embeddings\n",
    "# Each line in the glove file is like: king 0.123 0.232 ... 0.543   (100 values)\n",
    "# then we build a Python dictionary embeddings_index that maps each word to its 100-dimensional vector.\n",
    "# it will look like this : embeddings_index['king'] = [0.123, 0.232, ..., 0.543]\n",
    "\n",
    "embeddings_index = {} \n",
    "glove_file = '/kaggle/working/glove/glove.6B.100d.txt'  # Using 100-dimensional embeddings\n",
    "with open(glove_file, encoding='utf-8') as f:\n",
    "    for line in f:\n",
    "        values = line.split()\n",
    "        word = values[0]\n",
    "        coefs = np.asarray(values[1:], dtype='float32')\n",
    "        embeddings_index[word] = coefs\n",
    "print(f'Found {len(embeddings_index)} word vectors.')"
   ]
  },
  {
   "cell_type": "code",
   "execution_count": null,
   "metadata": {
    "execution": {
     "iopub.execute_input": "2025-05-11T16:24:56.186166Z",
     "iopub.status.busy": "2025-05-11T16:24:56.185960Z",
     "iopub.status.idle": "2025-05-11T16:24:56.956599Z",
     "shell.execute_reply": "2025-05-11T16:24:56.956025Z",
     "shell.execute_reply.started": "2025-05-11T16:24:56.186149Z"
    },
    "trusted": true
   },
   "outputs": [],
   "source": [
    "#We Created a Tokenizer that will keep the top 10,000 most frequent words.\n",
    "#oov_token='<OOV>' is a special token used to handle out-of-vocabulary words.\n",
    "#It builds word_index: a dictionary that maps each word to a unique integer ID.\n",
    "#Converts each review in train_data and test_data from text to a list of token IDs.\n",
    "\n",
    "vocab_size = 10000\n",
    "tokenizer = Tokenizer(num_words = vocab_size , oov_token='<OOV>')\n",
    "tokenizer.fit_on_texts(train_data)\n",
    "word_index = tokenizer.word_index\n",
    "train_data = tokenizer.texts_to_sequences(train_data)\n",
    "test_data = tokenizer.texts_to_sequences(test_data)"
   ]
  },
  {
   "cell_type": "code",
   "execution_count": null,
   "metadata": {
    "execution": {
     "iopub.execute_input": "2025-05-11T16:24:56.957380Z",
     "iopub.status.busy": "2025-05-11T16:24:56.957162Z",
     "iopub.status.idle": "2025-05-11T16:24:57.021095Z",
     "shell.execute_reply": "2025-05-11T16:24:57.020608Z",
     "shell.execute_reply.started": "2025-05-11T16:24:56.957362Z"
    },
    "trusted": true
   },
   "outputs": [],
   "source": [
    "# padding all the reviews to the same length 384\n",
    "maxlen = 384\n",
    "train_data = pad_sequences(train_data, maxlen=maxlen, padding='post', truncating='post') #padding = post means we add zeros at the end of the reviews shorter than 384\n",
    "test_data = pad_sequences(test_data, maxlen=maxlen, padding='post', truncating='post') #truncating  = post means we remove the end of the reviews longer than 384"
   ]
  },
  {
   "cell_type": "code",
   "execution_count": null,
   "metadata": {
    "execution": {
     "iopub.execute_input": "2025-05-11T16:24:57.021984Z",
     "iopub.status.busy": "2025-05-11T16:24:57.021784Z",
     "iopub.status.idle": "2025-05-11T16:24:57.046219Z",
     "shell.execute_reply": "2025-05-11T16:24:57.045755Z",
     "shell.execute_reply.started": "2025-05-11T16:24:57.021968Z"
    },
    "trusted": true
   },
   "outputs": [],
   "source": [
    "#we Create a matrix of shape (vocab_size, embedding_dim) to feed into the model’s Embedding layer.\n",
    "#For each word in the tokenizer’s vocabulary (up to 10,000), it looks up its GloVe vector and adds it to the matrix.\n",
    "#Words not found in GloVe will have zero vectors.\n",
    "#we use all of this to load the pretrained embeddings into the Embedding layer of the model instead of training them from scratch\n",
    "\n",
    "embedding_dim = 100  # Matches glove.6B.100d.txt\n",
    "embedding_matrix = np.zeros((vocab_size, embedding_dim))\n",
    "for word, i in word_index.items():\n",
    "    if i < vocab_size:\n",
    "        embedding_vector = embeddings_index.get(word)\n",
    "        if embedding_vector is not None:\n",
    "            embedding_matrix[i] = embedding_vector"
   ]
  },
  {
   "cell_type": "code",
   "execution_count": null,
   "metadata": {
    "execution": {
     "iopub.execute_input": "2025-05-11T16:24:57.047096Z",
     "iopub.status.busy": "2025-05-11T16:24:57.046903Z",
     "iopub.status.idle": "2025-05-11T16:24:57.054014Z",
     "shell.execute_reply": "2025-05-11T16:24:57.053358Z",
     "shell.execute_reply.started": "2025-05-11T16:24:57.047081Z"
    },
    "trusted": true
   },
   "outputs": [],
   "source": [
    "#This class monitors the F1 score (based on precision and recall) on the validation set after each epoch,\n",
    "#and it stops training early if the F1 score doesn't improve after a number of consecutive epochs (patience).\n",
    "# it inherits from the Callback class, which is a base class for Keras callbacks.\n",
    "# it allows you to create custom behaviors during training using callbacks it hooks into the training process using the methods on_epoch_end and on_train_end\n",
    "class EarlyStoppingF1(Callback): \n",
    "    def __init__(self, patience=0, mode='max', restore_best_weights=False):\n",
    "        super(EarlyStoppingF1, self).__init__()\n",
    "        self.patience = patience\n",
    "        self.mode = mode\n",
    "        self.restore_best_weights = restore_best_weights\n",
    "        self.best_weights = None\n",
    "        if mode == 'min':\n",
    "            self.monitor_op = np.less\n",
    "            self.best = np.inf\n",
    "        elif mode == 'max':\n",
    "            self.monitor_op = np.greater\n",
    "            self.best = -np.inf\n",
    "        else:\n",
    "            raise ValueError('Invalid mode')\n",
    "        self.wait = 0\n",
    "        self.stopped_epoch = 0\n",
    "\n",
    "    def on_epoch_end(self, epoch, logs=None):\n",
    "        val_precision = logs.get('val_precision')\n",
    "        val_recall = logs.get('val_recall')\n",
    "        if val_precision is None or val_recall is None:\n",
    "            raise ValueError('Validation precision or recall not found in logs')\n",
    "        # Compute F1 score, avoiding division by zero\n",
    "        if val_precision + val_recall > 0:\n",
    "            val_f1 = 2 * (val_precision * val_recall) / (val_precision + val_recall)\n",
    "        else:\n",
    "            val_f1 = 0\n",
    "        # Check if current F1 score improves over the best\n",
    "        if self.monitor_op(val_f1, self.best):\n",
    "            self.best = val_f1\n",
    "            self.wait = 0\n",
    "            if self.restore_best_weights:\n",
    "                self.best_weights = self.model.get_weights()\n",
    "        else:\n",
    "            self.wait += 1\n",
    "            if self.wait >= self.patience:\n",
    "                self.stopped_epoch = epoch\n",
    "                self.model.stop_training = True\n",
    "                if self.restore_best_weights and self.best_weights is not None:\n",
    "                    self.model.set_weights(self.best_weights)\n",
    "\n",
    "    def on_train_end(self, logs=None):\n",
    "        if self.stopped_epoch > 0:\n",
    "            print(f'Epoch {self.stopped_epoch + 1}: early stopping')"
   ]
  },
  {
   "cell_type": "code",
   "execution_count": null,
   "metadata": {
    "execution": {
     "iopub.execute_input": "2025-05-11T16:24:57.055069Z",
     "iopub.status.busy": "2025-05-11T16:24:57.054824Z",
     "iopub.status.idle": "2025-05-11T16:24:57.067525Z",
     "shell.execute_reply": "2025-05-11T16:24:57.066815Z",
     "shell.execute_reply.started": "2025-05-11T16:24:57.055052Z"
    },
    "trusted": true
   },
   "outputs": [],
   "source": [
    "# we use bidirectional LTSM to process the input in both directions (forward and backward)\n",
    "# forward from start to end.\n",
    "# backward from end to start. \n",
    "#Ex : \"This place is not bad\" starting from \"This\" and starting from \"bad\" the model realize that the word \"not\" affects the meaning of \"bad\"\n",
    "def bilstm():\n",
    "    model = Sequential()\n",
    "    model.add(Embedding(input_dim=vocab_size, output_dim=100, input_length=maxlen, mask_zero=True))#embedding without the pre-trained weights (Glove)\n",
    "    model.add(SpatialDropout1D(0.4))#Randomly drops 40% of the entire embedding dimensions \n",
    "    model.add(Bidirectional(LSTM(64)))\n",
    "    model.add(Dropout(0.4)) # randomly sets 40% of the neurons to 0\n",
    "    model.add(Dense(64, activation='relu'))#Dense layer for feature abstraction\n",
    "    model.add(Dropout(0.5))\n",
    "    model.add(Dense(1, activation='sigmoid')) #output layer with sigmoid activation function\n",
    "    \n",
    "    model.compile(\n",
    "        loss=BinaryFocalCrossentropy(apply_class_balancing=True),#helps to handle class imbalance\n",
    "        optimizer=Adam(learning_rate=0.0001),\n",
    "        metrics=['accuracy', Precision(name='precision'), Recall(name='recall')]\n",
    "    )\n",
    "    return model"
   ]
  },
  {
   "cell_type": "code",
   "execution_count": null,
   "metadata": {
    "execution": {
     "iopub.execute_input": "2025-05-11T16:24:57.069048Z",
     "iopub.status.busy": "2025-05-11T16:24:57.068376Z",
     "iopub.status.idle": "2025-05-11T16:24:57.080662Z",
     "shell.execute_reply": "2025-05-11T16:24:57.079990Z",
     "shell.execute_reply.started": "2025-05-11T16:24:57.069025Z"
    },
    "trusted": true
   },
   "outputs": [],
   "source": [
    "# the same as the last model but with pre-trained embedding weights (Glove)\n",
    "def pre_bilstm():\n",
    "    model = Sequential()\n",
    "    model.add(Embedding(input_dim=vocab_size, output_dim=embedding_dim, input_length=maxlen, weights=[embedding_matrix], trainable=False,mask_zero=True))\n",
    "    model.add(SpatialDropout1D(0.4))\n",
    "    model.add(Bidirectional(LSTM(64)))\n",
    "    model.add(Dropout(0.4))\n",
    "    model.add(Dense(64, activation='relu'))\n",
    "    model.add(Dropout(0.5))\n",
    "    model.add(Dense(1, activation='sigmoid'))\n",
    "    \n",
    "    model.compile(\n",
    "        loss=BinaryFocalCrossentropy(apply_class_balancing=True),\n",
    "        optimizer=Adam(learning_rate=0.001),\n",
    "        metrics=['accuracy', Precision(name='precision'), Recall(name='recall')]\n",
    "    )\n",
    "    return model"
   ]
  },
  {
   "cell_type": "code",
   "execution_count": null,
   "metadata": {
    "execution": {
     "iopub.execute_input": "2025-05-11T16:24:57.081905Z",
     "iopub.status.busy": "2025-05-11T16:24:57.081446Z",
     "iopub.status.idle": "2025-05-11T16:24:57.092626Z",
     "shell.execute_reply": "2025-05-11T16:24:57.092019Z",
     "shell.execute_reply.started": "2025-05-11T16:24:57.081889Z"
    },
    "trusted": true
   },
   "outputs": [],
   "source": [
    "#we added a CNN Layer \n",
    "def cnn_bilstm():\n",
    "    model = Sequential()\n",
    "    model.add(Embedding(input_dim=vocab_size, output_dim=100, input_length=maxlen , mask_zero=True))\n",
    "    model.add(SpatialDropout1D(0.4))\n",
    "    model.add(Conv1D(filters=64, #no of filters\n",
    "                     kernel_size=5, #size of the filter\n",
    "                     activation='relu'))# activation function for non-linearity\n",
    "    #downsampling operation that reduces the spatial dimensions (sequence length) of the input while retaining the most important features.2 is the size of the pooling window\n",
    "    model.add(MaxPooling1D(pool_size=2))\n",
    "    model.add(Dropout(0.4))\n",
    "    model.add(Bidirectional(LSTM(64)))\n",
    "    model.add(Dropout(0.4))\n",
    "    model.add(Dense(64, activation='relu'))\n",
    "    model.add(Dropout(0.5))\n",
    "    model.add(Dense(1, activation='sigmoid'))\n",
    "\n",
    "    model.compile(\n",
    "        loss=BinaryFocalCrossentropy(apply_class_balancing=True),\n",
    "        optimizer=Adam(learning_rate=0.0001),\n",
    "        metrics=['accuracy' , Precision() , Recall(thresholds=0)]\n",
    "    )\n",
    "\n",
    "    return model"
   ]
  },
  {
   "cell_type": "code",
   "execution_count": null,
   "metadata": {
    "execution": {
     "iopub.execute_input": "2025-05-11T16:24:57.093474Z",
     "iopub.status.busy": "2025-05-11T16:24:57.093275Z",
     "iopub.status.idle": "2025-05-11T16:24:57.104898Z",
     "shell.execute_reply": "2025-05-11T16:24:57.104303Z",
     "shell.execute_reply.started": "2025-05-11T16:24:57.093460Z"
    },
    "trusted": true
   },
   "outputs": [],
   "source": [
    "# the same as the last model but adds L2 regularization \n",
    "# it penalize large weights in the model, which can help prevent overfitting.\n",
    "# we added it to all the layers\n",
    "L2_COEFF = 1e-4\n",
    "def cnn_bilstm2():\n",
    "    model = Sequential()\n",
    "    model.add(Embedding(input_dim=vocab_size, output_dim=100, input_length=maxlen, embeddings_regularizer=l2(L2_COEFF)))\n",
    "    model.add(SpatialDropout1D(0.4))\n",
    "    model.add(Conv1D(filters=64, kernel_size=5, activation='relu', kernel_regularizer=l2(L2_COEFF), bias_regularizer=l2(L2_COEFF)))\n",
    "    model.add(MaxPooling1D(pool_size=2))\n",
    "    model.add(Dropout(0.4))\n",
    "    model.add(Bidirectional(LSTM(64, kernel_regularizer=l2(L2_COEFF), recurrent_regularizer=l2(L2_COEFF), bias_regularizer=l2(L2_COEFF))))\n",
    "    model.add(Dropout(0.4))\n",
    "    model.add(Dense(64, activation='relu', kernel_regularizer=l2(L2_COEFF), bias_regularizer=l2(L2_COEFF)))\n",
    "    model.add(Dropout(0.5))\n",
    "    model.add(Dense(1, activation='sigmoid', kernel_regularizer=l2(L2_COEFF), bias_regularizer=l2(L2_COEFF)))\n",
    "    \n",
    "    model.compile(\n",
    "        loss=BinaryFocalCrossentropy(apply_class_balancing=True),\n",
    "        optimizer=Adam(learning_rate=0.0001),\n",
    "        metrics=['accuracy', Precision(name='precision'), Recall(name='recall')]\n",
    "    )\n",
    "    return model"
   ]
  },
  {
   "cell_type": "code",
   "execution_count": null,
   "metadata": {
    "execution": {
     "iopub.execute_input": "2025-05-11T16:24:57.105805Z",
     "iopub.status.busy": "2025-05-11T16:24:57.105552Z",
     "iopub.status.idle": "2025-05-11T16:24:57.118079Z",
     "shell.execute_reply": "2025-05-11T16:24:57.117495Z",
     "shell.execute_reply.started": "2025-05-11T16:24:57.105783Z"
    },
    "trusted": true
   },
   "outputs": [],
   "source": [
    "# same as the last model but with pre-trained embedding weights (Glove)\n",
    "# learning rate is higher because the embedding is not being trained\n",
    "L2_COEFF = 1e-4\n",
    "def pre_cnn_bilstm2():\n",
    "    model = Sequential()\n",
    "    model.add(Embedding(input_dim=vocab_size, output_dim=embedding_dim, input_length=maxlen, weights=[embedding_matrix], trainable=False,mask_zero=True))\n",
    "    model.add(SpatialDropout1D(0.4))\n",
    "    model.add(Conv1D(filters=64, kernel_size=5, activation='relu', kernel_regularizer=l2(L2_COEFF), bias_regularizer=l2(L2_COEFF)))\n",
    "    model.add(MaxPooling1D(pool_size=2))\n",
    "    model.add(Dropout(0.4))\n",
    "    model.add(Bidirectional(LSTM(64, kernel_regularizer=l2(L2_COEFF), recurrent_regularizer=l2(L2_COEFF), bias_regularizer=l2(L2_COEFF))))\n",
    "    model.add(Dropout(0.4))\n",
    "    model.add(Dense(64, activation='relu', kernel_regularizer=l2(L2_COEFF), bias_regularizer=l2(L2_COEFF)))\n",
    "    model.add(Dropout(0.5))\n",
    "    model.add(Dense(1, activation='sigmoid', kernel_regularizer=l2(L2_COEFF), bias_regularizer=l2(L2_COEFF)))\n",
    "    \n",
    "    model.compile(\n",
    "        loss=BinaryFocalCrossentropy(apply_class_balancing=True),\n",
    "        optimizer=Adam(learning_rate=0.001),\n",
    "        metrics=['accuracy', Precision(name='precision'), Recall(name='recall')]\n",
    "    )\n",
    "    return model"
   ]
  },
  {
   "cell_type": "code",
   "execution_count": 87,
   "metadata": {
    "execution": {
     "iopub.execute_input": "2025-05-11T16:24:57.119001Z",
     "iopub.status.busy": "2025-05-11T16:24:57.118795Z",
     "iopub.status.idle": "2025-05-11T16:24:57.244948Z",
     "shell.execute_reply": "2025-05-11T16:24:57.244362Z",
     "shell.execute_reply.started": "2025-05-11T16:24:57.118980Z"
    },
    "trusted": true
   },
   "outputs": [
    {
     "name": "stderr",
     "output_type": "stream",
     "text": [
      "/usr/local/lib/python3.11/dist-packages/keras/src/layers/core/embedding.py:90: UserWarning: Argument `input_length` is deprecated. Just remove it.\n",
      "  warnings.warn(\n"
     ]
    }
   ],
   "source": [
    "models = {'CNN-BiLSTM' : cnn_bilstm2(),\n",
    "          'BiLSTM' : bilstm(),\n",
    "          'pre-CNN-BiLSTM' : pre_cnn_bilstm2(),\n",
    "          'pre-BiLSTM' : pre_bilstm()}"
   ]
  },
  {
   "cell_type": "code",
   "execution_count": null,
   "metadata": {
    "execution": {
     "iopub.execute_input": "2025-05-11T16:24:57.245807Z",
     "iopub.status.busy": "2025-05-11T16:24:57.245608Z",
     "iopub.status.idle": "2025-05-11T16:31:09.434224Z",
     "shell.execute_reply": "2025-05-11T16:31:09.433472Z",
     "shell.execute_reply.started": "2025-05-11T16:24:57.245791Z"
    },
    "trusted": true
   },
   "outputs": [
    {
     "name": "stdout",
     "output_type": "stream",
     "text": [
      "--------------------------------------------------\n",
      "Epoch 1/200\n",
      "\u001b[1m40/40\u001b[0m \u001b[32m━━━━━━━━━━━━━━━━━━━━\u001b[0m\u001b[37m\u001b[0m \u001b[1m9s\u001b[0m 64ms/step - accuracy: 0.4526 - loss: 0.2186 - precision: 0.5971 - recall: 0.1755 - val_accuracy: 0.4175 - val_loss: 0.2006 - val_precision: 0.0000e+00 - val_recall: 0.0000e+00\n",
      "Epoch 2/200\n",
      "\u001b[1m40/40\u001b[0m \u001b[32m━━━━━━━━━━━━━━━━━━━━\u001b[0m\u001b[37m\u001b[0m \u001b[1m2s\u001b[0m 41ms/step - accuracy: 0.4217 - loss: 0.1970 - precision: 0.9268 - recall: 5.8408e-04 - val_accuracy: 0.4175 - val_loss: 0.1839 - val_precision: 0.0000e+00 - val_recall: 0.0000e+00\n",
      "Epoch 3/200\n",
      "\u001b[1m40/40\u001b[0m \u001b[32m━━━━━━━━━━━━━━━━━━━━\u001b[0m\u001b[37m\u001b[0m \u001b[1m2s\u001b[0m 41ms/step - accuracy: 0.4150 - loss: 0.1808 - precision: 0.0000e+00 - recall: 0.0000e+00 - val_accuracy: 0.4175 - val_loss: 0.1698 - val_precision: 0.0000e+00 - val_recall: 0.0000e+00\n",
      "Epoch 4/200\n",
      "\u001b[1m40/40\u001b[0m \u001b[32m━━━━━━━━━━━━━━━━━━━━\u001b[0m\u001b[37m\u001b[0m \u001b[1m2s\u001b[0m 41ms/step - accuracy: 0.4151 - loss: 0.1670 - precision: 0.0000e+00 - recall: 0.0000e+00 - val_accuracy: 0.4175 - val_loss: 0.1580 - val_precision: 0.0000e+00 - val_recall: 0.0000e+00\n",
      "Epoch 5/200\n",
      "\u001b[1m40/40\u001b[0m \u001b[32m━━━━━━━━━━━━━━━━━━━━\u001b[0m\u001b[37m\u001b[0m \u001b[1m2s\u001b[0m 41ms/step - accuracy: 0.4135 - loss: 0.1559 - precision: 0.0000e+00 - recall: 0.0000e+00 - val_accuracy: 0.4175 - val_loss: 0.1480 - val_precision: 0.0000e+00 - val_recall: 0.0000e+00\n",
      "Epoch 6/200\n",
      "\u001b[1m40/40\u001b[0m \u001b[32m━━━━━━━━━━━━━━━━━━━━\u001b[0m\u001b[37m\u001b[0m \u001b[1m2s\u001b[0m 41ms/step - accuracy: 0.4134 - loss: 0.1463 - precision: 0.0000e+00 - recall: 0.0000e+00 - val_accuracy: 0.4175 - val_loss: 0.1394 - val_precision: 0.0000e+00 - val_recall: 0.0000e+00\n",
      "Epoch 7/200\n",
      "\u001b[1m40/40\u001b[0m \u001b[32m━━━━━━━━━━━━━━━━━━━━\u001b[0m\u001b[37m\u001b[0m \u001b[1m2s\u001b[0m 42ms/step - accuracy: 0.4153 - loss: 0.1379 - precision: 0.0000e+00 - recall: 0.0000e+00 - val_accuracy: 0.4175 - val_loss: 0.1315 - val_precision: 0.0000e+00 - val_recall: 0.0000e+00\n",
      "Epoch 8/200\n",
      "\u001b[1m40/40\u001b[0m \u001b[32m━━━━━━━━━━━━━━━━━━━━\u001b[0m\u001b[37m\u001b[0m \u001b[1m2s\u001b[0m 42ms/step - accuracy: 0.4199 - loss: 0.1295 - precision: 0.4492 - recall: 0.0039 - val_accuracy: 0.4962 - val_loss: 0.1218 - val_precision: 0.8651 - val_recall: 0.1601\n",
      "Epoch 9/200\n",
      "\u001b[1m40/40\u001b[0m \u001b[32m━━━━━━━━━━━━━━━━━━━━\u001b[0m\u001b[37m\u001b[0m \u001b[1m2s\u001b[0m 43ms/step - accuracy: 0.5010 - loss: 0.1187 - precision: 0.8743 - recall: 0.1698 - val_accuracy: 0.6886 - val_loss: 0.1101 - val_precision: 0.8914 - val_recall: 0.5301\n",
      "Epoch 10/200\n",
      "\u001b[1m40/40\u001b[0m \u001b[32m━━━━━━━━━━━━━━━━━━━━\u001b[0m\u001b[37m\u001b[0m \u001b[1m2s\u001b[0m 43ms/step - accuracy: 0.6602 - loss: 0.1077 - precision: 0.9194 - recall: 0.4518 - val_accuracy: 0.7468 - val_loss: 0.1009 - val_precision: 0.8921 - val_recall: 0.6432\n",
      "Epoch 11/200\n",
      "\u001b[1m40/40\u001b[0m \u001b[32m━━━━━━━━━━━━━━━━━━━━\u001b[0m\u001b[37m\u001b[0m \u001b[1m2s\u001b[0m 43ms/step - accuracy: 0.7521 - loss: 0.0987 - precision: 0.9102 - recall: 0.6378 - val_accuracy: 0.7716 - val_loss: 0.0930 - val_precision: 0.9012 - val_recall: 0.6828\n",
      "Epoch 12/200\n",
      "\u001b[1m40/40\u001b[0m \u001b[32m━━━━━━━━━━━━━━━━━━━━\u001b[0m\u001b[37m\u001b[0m \u001b[1m2s\u001b[0m 43ms/step - accuracy: 0.7979 - loss: 0.0900 - precision: 0.9210 - recall: 0.7133 - val_accuracy: 0.8195 - val_loss: 0.0875 - val_precision: 0.9052 - val_recall: 0.7709\n",
      "Epoch 13/200\n",
      "\u001b[1m40/40\u001b[0m \u001b[32m━━━━━━━━━━━━━━━━━━━━\u001b[0m\u001b[37m\u001b[0m \u001b[1m2s\u001b[0m 43ms/step - accuracy: 0.8235 - loss: 0.0842 - precision: 0.9277 - recall: 0.7540 - val_accuracy: 0.8272 - val_loss: 0.0836 - val_precision: 0.9025 - val_recall: 0.7885\n",
      "Epoch 14/200\n",
      "\u001b[1m40/40\u001b[0m \u001b[32m━━━━━━━━━━━━━━━━━━━━\u001b[0m\u001b[37m\u001b[0m \u001b[1m2s\u001b[0m 42ms/step - accuracy: 0.8448 - loss: 0.0780 - precision: 0.9393 - recall: 0.7829 - val_accuracy: 0.8409 - val_loss: 0.0808 - val_precision: 0.9024 - val_recall: 0.8150\n",
      "Epoch 15/200\n",
      "\u001b[1m40/40\u001b[0m \u001b[32m━━━━━━━━━━━━━━━━━━━━\u001b[0m\u001b[37m\u001b[0m \u001b[1m2s\u001b[0m 43ms/step - accuracy: 0.8566 - loss: 0.0736 - precision: 0.9459 - recall: 0.7947 - val_accuracy: 0.8623 - val_loss: 0.0818 - val_precision: 0.8812 - val_recall: 0.8825\n",
      "Epoch 16/200\n",
      "\u001b[1m40/40\u001b[0m \u001b[32m━━━━━━━━━━━━━━━━━━━━\u001b[0m\u001b[37m\u001b[0m \u001b[1m2s\u001b[0m 43ms/step - accuracy: 0.8803 - loss: 0.0693 - precision: 0.9542 - recall: 0.8392 - val_accuracy: 0.8683 - val_loss: 0.0815 - val_precision: 0.8892 - val_recall: 0.8840\n",
      "Epoch 17/200\n",
      "\u001b[1m40/40\u001b[0m \u001b[32m━━━━━━━━━━━━━━━━━━━━\u001b[0m\u001b[37m\u001b[0m \u001b[1m2s\u001b[0m 42ms/step - accuracy: 0.8882 - loss: 0.0661 - precision: 0.9615 - recall: 0.8428 - val_accuracy: 0.8477 - val_loss: 0.0771 - val_precision: 0.9185 - val_recall: 0.8106\n",
      "Epoch 18/200\n",
      "\u001b[1m40/40\u001b[0m \u001b[32m━━━━━━━━━━━━━━━━━━━━\u001b[0m\u001b[37m\u001b[0m \u001b[1m2s\u001b[0m 42ms/step - accuracy: 0.8955 - loss: 0.0630 - precision: 0.9695 - recall: 0.8469 - val_accuracy: 0.8648 - val_loss: 0.0780 - val_precision: 0.9017 - val_recall: 0.8620\n",
      "Epoch 19/200\n",
      "\u001b[1m40/40\u001b[0m \u001b[32m━━━━━━━━━━━━━━━━━━━━\u001b[0m\u001b[37m\u001b[0m \u001b[1m2s\u001b[0m 45ms/step - accuracy: 0.9006 - loss: 0.0617 - precision: 0.9707 - recall: 0.8529 - val_accuracy: 0.8520 - val_loss: 0.0781 - val_precision: 0.9110 - val_recall: 0.8267\n",
      "Epoch 20/200\n",
      "\u001b[1m40/40\u001b[0m \u001b[32m━━━━━━━━━━━━━━━━━━━━\u001b[0m\u001b[37m\u001b[0m \u001b[1m2s\u001b[0m 43ms/step - accuracy: 0.9115 - loss: 0.0582 - precision: 0.9757 - recall: 0.8686 - val_accuracy: 0.8606 - val_loss: 0.0783 - val_precision: 0.9072 - val_recall: 0.8473\n",
      "Epoch 21/200\n",
      "\u001b[1m40/40\u001b[0m \u001b[32m━━━━━━━━━━━━━━━━━━━━\u001b[0m\u001b[37m\u001b[0m \u001b[1m2s\u001b[0m 43ms/step - accuracy: 0.9172 - loss: 0.0568 - precision: 0.9749 - recall: 0.8804 - val_accuracy: 0.8597 - val_loss: 0.0795 - val_precision: 0.9045 - val_recall: 0.8488\n",
      "Epoch 22/200\n",
      "\u001b[1m40/40\u001b[0m \u001b[32m━━━━━━━━━━━━━━━━━━━━\u001b[0m\u001b[37m\u001b[0m \u001b[1m2s\u001b[0m 42ms/step - accuracy: 0.9099 - loss: 0.0565 - precision: 0.9727 - recall: 0.8714 - val_accuracy: 0.8606 - val_loss: 0.0876 - val_precision: 0.8721 - val_recall: 0.8913\n",
      "Epoch 23/200\n",
      "\u001b[1m40/40\u001b[0m \u001b[32m━━━━━━━━━━━━━━━━━━━━\u001b[0m\u001b[37m\u001b[0m \u001b[1m2s\u001b[0m 43ms/step - accuracy: 0.9269 - loss: 0.0550 - precision: 0.9749 - recall: 0.8970 - val_accuracy: 0.8580 - val_loss: 0.0798 - val_precision: 0.9107 - val_recall: 0.8385\n",
      "Epoch 24/200\n",
      "\u001b[1m40/40\u001b[0m \u001b[32m━━━━━━━━━━━━━━━━━━━━\u001b[0m\u001b[37m\u001b[0m \u001b[1m2s\u001b[0m 42ms/step - accuracy: 0.9291 - loss: 0.0527 - precision: 0.9787 - recall: 0.8982 - val_accuracy: 0.8546 - val_loss: 0.0819 - val_precision: 0.9036 - val_recall: 0.8399\n",
      "Epoch 25/200\n",
      "\u001b[1m40/40\u001b[0m \u001b[32m━━━━━━━━━━━━━━━━━━━━\u001b[0m\u001b[37m\u001b[0m \u001b[1m2s\u001b[0m 43ms/step - accuracy: 0.9285 - loss: 0.0513 - precision: 0.9806 - recall: 0.8962 - val_accuracy: 0.8571 - val_loss: 0.0820 - val_precision: 0.9028 - val_recall: 0.8458\n",
      "Epoch 26/200\n",
      "\u001b[1m40/40\u001b[0m \u001b[32m━━━━━━━━━━━━━━━━━━━━\u001b[0m\u001b[37m\u001b[0m \u001b[1m2s\u001b[0m 43ms/step - accuracy: 0.9370 - loss: 0.0495 - precision: 0.9836 - recall: 0.9067 - val_accuracy: 0.8554 - val_loss: 0.0852 - val_precision: 0.8902 - val_recall: 0.8576\n",
      "Epoch 27/200\n",
      "\u001b[1m40/40\u001b[0m \u001b[32m━━━━━━━━━━━━━━━━━━━━\u001b[0m\u001b[37m\u001b[0m \u001b[1m2s\u001b[0m 43ms/step - accuracy: 0.9401 - loss: 0.0485 - precision: 0.9845 - recall: 0.9102 - val_accuracy: 0.8537 - val_loss: 0.0821 - val_precision: 0.9167 - val_recall: 0.8238\n",
      "Epoch 28/200\n",
      "\u001b[1m40/40\u001b[0m \u001b[32m━━━━━━━━━━━━━━━━━━━━\u001b[0m\u001b[37m\u001b[0m \u001b[1m2s\u001b[0m 43ms/step - accuracy: 0.9434 - loss: 0.0476 - precision: 0.9854 - recall: 0.9159 - val_accuracy: 0.8512 - val_loss: 0.0853 - val_precision: 0.8858 - val_recall: 0.8546\n",
      "Epoch 29/200\n",
      "\u001b[1m40/40\u001b[0m \u001b[32m━━━━━━━━━━━━━━━━━━━━\u001b[0m\u001b[37m\u001b[0m \u001b[1m2s\u001b[0m 43ms/step - accuracy: 0.9456 - loss: 0.0461 - precision: 0.9860 - recall: 0.9193 - val_accuracy: 0.8571 - val_loss: 0.0955 - val_precision: 0.8813 - val_recall: 0.8722\n",
      "Epoch 30/200\n",
      "\u001b[1m40/40\u001b[0m \u001b[32m━━━━━━━━━━━━━━━━━━━━\u001b[0m\u001b[37m\u001b[0m \u001b[1m2s\u001b[0m 43ms/step - accuracy: 0.9438 - loss: 0.0459 - precision: 0.9838 - recall: 0.9191 - val_accuracy: 0.8563 - val_loss: 0.0926 - val_precision: 0.8800 - val_recall: 0.8722\n",
      "Epoch 31/200\n",
      "\u001b[1m40/40\u001b[0m \u001b[32m━━━━━━━━━━━━━━━━━━━━\u001b[0m\u001b[37m\u001b[0m \u001b[1m2s\u001b[0m 43ms/step - accuracy: 0.9491 - loss: 0.0448 - precision: 0.9849 - recall: 0.9267 - val_accuracy: 0.8469 - val_loss: 0.0888 - val_precision: 0.9088 - val_recall: 0.8194\n",
      "Epoch 32/200\n",
      "\u001b[1m40/40\u001b[0m \u001b[32m━━━━━━━━━━━━━━━━━━━━\u001b[0m\u001b[37m\u001b[0m \u001b[1m2s\u001b[0m 43ms/step - accuracy: 0.9466 - loss: 0.0449 - precision: 0.9888 - recall: 0.9183 - val_accuracy: 0.8546 - val_loss: 0.0887 - val_precision: 0.8986 - val_recall: 0.8458\n",
      "Epoch 33/200\n",
      "\u001b[1m40/40\u001b[0m \u001b[32m━━━━━━━━━━━━━━━━━━━━\u001b[0m\u001b[37m\u001b[0m \u001b[1m2s\u001b[0m 43ms/step - accuracy: 0.9531 - loss: 0.0430 - precision: 0.9877 - recall: 0.9310 - val_accuracy: 0.8589 - val_loss: 0.0955 - val_precision: 0.8897 - val_recall: 0.8649\n",
      "Epoch 34/200\n",
      "\u001b[1m40/40\u001b[0m \u001b[32m━━━━━━━━━━━━━━━━━━━━\u001b[0m\u001b[37m\u001b[0m \u001b[1m2s\u001b[0m 43ms/step - accuracy: 0.9504 - loss: 0.0429 - precision: 0.9888 - recall: 0.9259 - val_accuracy: 0.8537 - val_loss: 0.0959 - val_precision: 0.8887 - val_recall: 0.8561\n",
      "Epoch 35/200\n",
      "\u001b[1m40/40\u001b[0m \u001b[32m━━━━━━━━━━━━━━━━━━━━\u001b[0m\u001b[37m\u001b[0m \u001b[1m2s\u001b[0m 43ms/step - accuracy: 0.9533 - loss: 0.0417 - precision: 0.9878 - recall: 0.9320 - val_accuracy: 0.8546 - val_loss: 0.0961 - val_precision: 0.8877 - val_recall: 0.8590\n",
      "Epoch 36/200\n",
      "\u001b[1m40/40\u001b[0m \u001b[32m━━━━━━━━━━━━━━━━━━━━\u001b[0m\u001b[37m\u001b[0m \u001b[1m2s\u001b[0m 43ms/step - accuracy: 0.9552 - loss: 0.0420 - precision: 0.9856 - recall: 0.9365 - val_accuracy: 0.8546 - val_loss: 0.0953 - val_precision: 0.8889 - val_recall: 0.8576\n",
      "Epoch 36: early stopping\n",
      "CNN-BiLSTM finished training\n",
      "CNN-BiLSTM saved to /kaggle/working/CNN-BiLSTM.h5\n",
      "--------------------------------------------------\n",
      "Epoch 1/200\n",
      "\u001b[1m40/40\u001b[0m \u001b[32m━━━━━━━━━━━━━━━━━━━━\u001b[0m\u001b[37m\u001b[0m \u001b[1m7s\u001b[0m 56ms/step - accuracy: 0.4721 - loss: 0.0784 - precision: 0.5911 - recall: 0.3211 - val_accuracy: 0.4175 - val_loss: 0.0753 - val_precision: 0.0000e+00 - val_recall: 0.0000e+00\n",
      "Epoch 2/200\n",
      "\u001b[1m40/40\u001b[0m \u001b[32m━━━━━━━━━━━━━━━━━━━━\u001b[0m\u001b[37m\u001b[0m \u001b[1m1s\u001b[0m 36ms/step - accuracy: 0.4180 - loss: 0.0748 - precision: 0.6098 - recall: 0.0014 - val_accuracy: 0.4175 - val_loss: 0.0716 - val_precision: 0.0000e+00 - val_recall: 0.0000e+00\n",
      "Epoch 3/200\n",
      "\u001b[1m40/40\u001b[0m \u001b[32m━━━━━━━━━━━━━━━━━━━━\u001b[0m\u001b[37m\u001b[0m \u001b[1m1s\u001b[0m 35ms/step - accuracy: 0.4209 - loss: 0.0718 - precision: 0.0000e+00 - recall: 0.0000e+00 - val_accuracy: 0.4175 - val_loss: 0.0701 - val_precision: 0.0000e+00 - val_recall: 0.0000e+00\n",
      "Epoch 4/200\n",
      "\u001b[1m40/40\u001b[0m \u001b[32m━━━━━━━━━━━━━━━━━━━━\u001b[0m\u001b[37m\u001b[0m \u001b[1m1s\u001b[0m 36ms/step - accuracy: 0.4211 - loss: 0.0694 - precision: 0.3659 - recall: 2.9845e-04 - val_accuracy: 0.4328 - val_loss: 0.0628 - val_precision: 0.9500 - val_recall: 0.0279\n",
      "Epoch 5/200\n",
      "\u001b[1m40/40\u001b[0m \u001b[32m━━━━━━━━━━━━━━━━━━━━\u001b[0m\u001b[37m\u001b[0m \u001b[1m1s\u001b[0m 36ms/step - accuracy: 0.5736 - loss: 0.0596 - precision: 0.9565 - recall: 0.2721 - val_accuracy: 0.6553 - val_loss: 0.0546 - val_precision: 0.9513 - val_recall: 0.4302\n",
      "Epoch 6/200\n",
      "\u001b[1m40/40\u001b[0m \u001b[32m━━━━━━━━━━━━━━━━━━━━\u001b[0m\u001b[37m\u001b[0m \u001b[1m1s\u001b[0m 36ms/step - accuracy: 0.7442 - loss: 0.0509 - precision: 0.9360 - recall: 0.6048 - val_accuracy: 0.8075 - val_loss: 0.0472 - val_precision: 0.8878 - val_recall: 0.7665\n",
      "Epoch 7/200\n",
      "\u001b[1m40/40\u001b[0m \u001b[32m━━━━━━━━━━━━━━━━━━━━\u001b[0m\u001b[37m\u001b[0m \u001b[1m1s\u001b[0m 36ms/step - accuracy: 0.8286 - loss: 0.0428 - precision: 0.9207 - recall: 0.7737 - val_accuracy: 0.8135 - val_loss: 0.0433 - val_precision: 0.9217 - val_recall: 0.7430\n",
      "Epoch 8/200\n",
      "\u001b[1m40/40\u001b[0m \u001b[32m━━━━━━━━━━━━━━━━━━━━\u001b[0m\u001b[37m\u001b[0m \u001b[1m1s\u001b[0m 36ms/step - accuracy: 0.8457 - loss: 0.0366 - precision: 0.9393 - recall: 0.7872 - val_accuracy: 0.8238 - val_loss: 0.0405 - val_precision: 0.9218 - val_recall: 0.7621\n",
      "Epoch 9/200\n",
      "\u001b[1m40/40\u001b[0m \u001b[32m━━━━━━━━━━━━━━━━━━━━\u001b[0m\u001b[37m\u001b[0m \u001b[1m1s\u001b[0m 36ms/step - accuracy: 0.8574 - loss: 0.0333 - precision: 0.9489 - recall: 0.7988 - val_accuracy: 0.8272 - val_loss: 0.0392 - val_precision: 0.9209 - val_recall: 0.7695\n",
      "Epoch 10/200\n",
      "\u001b[1m40/40\u001b[0m \u001b[32m━━━━━━━━━━━━━━━━━━━━\u001b[0m\u001b[37m\u001b[0m \u001b[1m1s\u001b[0m 36ms/step - accuracy: 0.8705 - loss: 0.0308 - precision: 0.9550 - recall: 0.8197 - val_accuracy: 0.8306 - val_loss: 0.0413 - val_precision: 0.9244 - val_recall: 0.7724\n",
      "Epoch 11/200\n",
      "\u001b[1m40/40\u001b[0m \u001b[32m━━━━━━━━━━━━━━━━━━━━\u001b[0m\u001b[37m\u001b[0m \u001b[1m1s\u001b[0m 36ms/step - accuracy: 0.8879 - loss: 0.0269 - precision: 0.9634 - recall: 0.8405 - val_accuracy: 0.8383 - val_loss: 0.0406 - val_precision: 0.9198 - val_recall: 0.7915\n",
      "Epoch 12/200\n",
      "\u001b[1m40/40\u001b[0m \u001b[32m━━━━━━━━━━━━━━━━━━━━\u001b[0m\u001b[37m\u001b[0m \u001b[1m1s\u001b[0m 36ms/step - accuracy: 0.8962 - loss: 0.0251 - precision: 0.9684 - recall: 0.8485 - val_accuracy: 0.8409 - val_loss: 0.0440 - val_precision: 0.9202 - val_recall: 0.7959\n",
      "Epoch 13/200\n",
      "\u001b[1m40/40\u001b[0m \u001b[32m━━━━━━━━━━━━━━━━━━━━\u001b[0m\u001b[37m\u001b[0m \u001b[1m1s\u001b[0m 36ms/step - accuracy: 0.9068 - loss: 0.0232 - precision: 0.9708 - recall: 0.8663 - val_accuracy: 0.8452 - val_loss: 0.0415 - val_precision: 0.9112 - val_recall: 0.8135\n",
      "Epoch 14/200\n",
      "\u001b[1m40/40\u001b[0m \u001b[32m━━━━━━━━━━━━━━━━━━━━\u001b[0m\u001b[37m\u001b[0m \u001b[1m1s\u001b[0m 36ms/step - accuracy: 0.9049 - loss: 0.0226 - precision: 0.9702 - recall: 0.8623 - val_accuracy: 0.8426 - val_loss: 0.0431 - val_precision: 0.9176 - val_recall: 0.8018\n",
      "Epoch 15/200\n",
      "\u001b[1m40/40\u001b[0m \u001b[32m━━━━━━━━━━━━━━━━━━━━\u001b[0m\u001b[37m\u001b[0m \u001b[1m1s\u001b[0m 36ms/step - accuracy: 0.9180 - loss: 0.0202 - precision: 0.9752 - recall: 0.8818 - val_accuracy: 0.8520 - val_loss: 0.0448 - val_precision: 0.9097 - val_recall: 0.8282\n",
      "Epoch 16/200\n",
      "\u001b[1m40/40\u001b[0m \u001b[32m━━━━━━━━━━━━━━━━━━━━\u001b[0m\u001b[37m\u001b[0m \u001b[1m1s\u001b[0m 36ms/step - accuracy: 0.9275 - loss: 0.0189 - precision: 0.9781 - recall: 0.8958 - val_accuracy: 0.8571 - val_loss: 0.0480 - val_precision: 0.9041 - val_recall: 0.8443\n",
      "Epoch 17/200\n",
      "\u001b[1m40/40\u001b[0m \u001b[32m━━━━━━━━━━━━━━━━━━━━\u001b[0m\u001b[37m\u001b[0m \u001b[1m1s\u001b[0m 36ms/step - accuracy: 0.9300 - loss: 0.0179 - precision: 0.9796 - recall: 0.8981 - val_accuracy: 0.8460 - val_loss: 0.0473 - val_precision: 0.9224 - val_recall: 0.8032\n",
      "Epoch 18/200\n",
      "\u001b[1m40/40\u001b[0m \u001b[32m━━━━━━━━━━━━━━━━━━━━\u001b[0m\u001b[37m\u001b[0m \u001b[1m1s\u001b[0m 36ms/step - accuracy: 0.9302 - loss: 0.0174 - precision: 0.9805 - recall: 0.8965 - val_accuracy: 0.8546 - val_loss: 0.0539 - val_precision: 0.9011 - val_recall: 0.8429\n",
      "Epoch 19/200\n",
      "\u001b[1m40/40\u001b[0m \u001b[32m━━━━━━━━━━━━━━━━━━━━\u001b[0m\u001b[37m\u001b[0m \u001b[1m1s\u001b[0m 36ms/step - accuracy: 0.9358 - loss: 0.0161 - precision: 0.9792 - recall: 0.9083 - val_accuracy: 0.8537 - val_loss: 0.0546 - val_precision: 0.8972 - val_recall: 0.8458\n",
      "Epoch 20/200\n",
      "\u001b[1m40/40\u001b[0m \u001b[32m━━━━━━━━━━━━━━━━━━━━\u001b[0m\u001b[37m\u001b[0m \u001b[1m2s\u001b[0m 38ms/step - accuracy: 0.9355 - loss: 0.0157 - precision: 0.9811 - recall: 0.9077 - val_accuracy: 0.8580 - val_loss: 0.0574 - val_precision: 0.9055 - val_recall: 0.8443\n",
      "Epoch 21/200\n",
      "\u001b[1m40/40\u001b[0m \u001b[32m━━━━━━━━━━━━━━━━━━━━\u001b[0m\u001b[37m\u001b[0m \u001b[1m1s\u001b[0m 36ms/step - accuracy: 0.9443 - loss: 0.0139 - precision: 0.9848 - recall: 0.9191 - val_accuracy: 0.8537 - val_loss: 0.0550 - val_precision: 0.9035 - val_recall: 0.8385\n",
      "Epoch 22/200\n",
      "\u001b[1m40/40\u001b[0m \u001b[32m━━━━━━━━━━━━━━━━━━━━\u001b[0m\u001b[37m\u001b[0m \u001b[1m1s\u001b[0m 36ms/step - accuracy: 0.9457 - loss: 0.0146 - precision: 0.9821 - recall: 0.9237 - val_accuracy: 0.8452 - val_loss: 0.0543 - val_precision: 0.9139 - val_recall: 0.8106\n",
      "Epoch 23/200\n",
      "\u001b[1m40/40\u001b[0m \u001b[32m━━━━━━━━━━━━━━━━━━━━\u001b[0m\u001b[37m\u001b[0m \u001b[1m1s\u001b[0m 36ms/step - accuracy: 0.9438 - loss: 0.0134 - precision: 0.9863 - recall: 0.9163 - val_accuracy: 0.8589 - val_loss: 0.0591 - val_precision: 0.9108 - val_recall: 0.8399\n",
      "Epoch 24/200\n",
      "\u001b[1m40/40\u001b[0m \u001b[32m━━━━━━━━━━━━━━━━━━━━\u001b[0m\u001b[37m\u001b[0m \u001b[1m1s\u001b[0m 35ms/step - accuracy: 0.9469 - loss: 0.0130 - precision: 0.9837 - recall: 0.9252 - val_accuracy: 0.8477 - val_loss: 0.0604 - val_precision: 0.9199 - val_recall: 0.8091\n",
      "Epoch 25/200\n",
      "\u001b[1m40/40\u001b[0m \u001b[32m━━━━━━━━━━━━━━━━━━━━\u001b[0m\u001b[37m\u001b[0m \u001b[1m1s\u001b[0m 36ms/step - accuracy: 0.9478 - loss: 0.0125 - precision: 0.9861 - recall: 0.9249 - val_accuracy: 0.8520 - val_loss: 0.0596 - val_precision: 0.9123 - val_recall: 0.8253\n",
      "Epoch 26/200\n",
      "\u001b[1m40/40\u001b[0m \u001b[32m━━━━━━━━━━━━━━━━━━━━\u001b[0m\u001b[37m\u001b[0m \u001b[1m1s\u001b[0m 35ms/step - accuracy: 0.9543 - loss: 0.0124 - precision: 0.9895 - recall: 0.9309 - val_accuracy: 0.8503 - val_loss: 0.0657 - val_precision: 0.9068 - val_recall: 0.8282\n",
      "Epoch 27/200\n",
      "\u001b[1m40/40\u001b[0m \u001b[32m━━━━━━━━━━━━━━━━━━━━\u001b[0m\u001b[37m\u001b[0m \u001b[1m1s\u001b[0m 35ms/step - accuracy: 0.9557 - loss: 0.0111 - precision: 0.9896 - recall: 0.9336 - val_accuracy: 0.8546 - val_loss: 0.0710 - val_precision: 0.8889 - val_recall: 0.8576\n",
      "Epoch 28/200\n",
      "\u001b[1m40/40\u001b[0m \u001b[32m━━━━━━━━━━━━━━━━━━━━\u001b[0m\u001b[37m\u001b[0m \u001b[1m1s\u001b[0m 35ms/step - accuracy: 0.9581 - loss: 0.0114 - precision: 0.9889 - recall: 0.9386 - val_accuracy: 0.8435 - val_loss: 0.0726 - val_precision: 0.8978 - val_recall: 0.8253\n",
      "Epoch 29/200\n",
      "\u001b[1m40/40\u001b[0m \u001b[32m━━━━━━━━━━━━━━━━━━━━\u001b[0m\u001b[37m\u001b[0m \u001b[1m1s\u001b[0m 35ms/step - accuracy: 0.9593 - loss: 0.0110 - precision: 0.9890 - recall: 0.9397 - val_accuracy: 0.8443 - val_loss: 0.0730 - val_precision: 0.8868 - val_recall: 0.8399\n",
      "Epoch 30/200\n",
      "\u001b[1m40/40\u001b[0m \u001b[32m━━━━━━━━━━━━━━━━━━━━\u001b[0m\u001b[37m\u001b[0m \u001b[1m1s\u001b[0m 35ms/step - accuracy: 0.9596 - loss: 0.0109 - precision: 0.9873 - recall: 0.9429 - val_accuracy: 0.8443 - val_loss: 0.0726 - val_precision: 0.8929 - val_recall: 0.8326\n",
      "Epoch 31/200\n",
      "\u001b[1m40/40\u001b[0m \u001b[32m━━━━━━━━━━━━━━━━━━━━\u001b[0m\u001b[37m\u001b[0m \u001b[1m1s\u001b[0m 35ms/step - accuracy: 0.9617 - loss: 0.0094 - precision: 0.9896 - recall: 0.9439 - val_accuracy: 0.8512 - val_loss: 0.0819 - val_precision: 0.8801 - val_recall: 0.8620\n",
      "Epoch 32/200\n",
      "\u001b[1m40/40\u001b[0m \u001b[32m━━━━━━━━━━━━━━━━━━━━\u001b[0m\u001b[37m\u001b[0m \u001b[1m1s\u001b[0m 36ms/step - accuracy: 0.9677 - loss: 0.0084 - precision: 0.9915 - recall: 0.9526 - val_accuracy: 0.8494 - val_loss: 0.0855 - val_precision: 0.8879 - val_recall: 0.8488\n",
      "Epoch 33/200\n",
      "\u001b[1m40/40\u001b[0m \u001b[32m━━━━━━━━━━━━━━━━━━━━\u001b[0m\u001b[37m\u001b[0m \u001b[1m1s\u001b[0m 36ms/step - accuracy: 0.9699 - loss: 0.0087 - precision: 0.9908 - recall: 0.9576 - val_accuracy: 0.8477 - val_loss: 0.0812 - val_precision: 0.8986 - val_recall: 0.8326\n",
      "Epoch 34/200\n",
      "\u001b[1m40/40\u001b[0m \u001b[32m━━━━━━━━━━━━━━━━━━━━\u001b[0m\u001b[37m\u001b[0m \u001b[1m1s\u001b[0m 35ms/step - accuracy: 0.9683 - loss: 0.0084 - precision: 0.9946 - recall: 0.9503 - val_accuracy: 0.8469 - val_loss: 0.0793 - val_precision: 0.8885 - val_recall: 0.8429\n",
      "Epoch 35/200\n",
      "\u001b[1m40/40\u001b[0m \u001b[32m━━━━━━━━━━━━━━━━━━━━\u001b[0m\u001b[37m\u001b[0m \u001b[1m1s\u001b[0m 35ms/step - accuracy: 0.9694 - loss: 0.0087 - precision: 0.9909 - recall: 0.9558 - val_accuracy: 0.8486 - val_loss: 0.0842 - val_precision: 0.8975 - val_recall: 0.8355\n",
      "Epoch 36/200\n",
      "\u001b[1m40/40\u001b[0m \u001b[32m━━━━━━━━━━━━━━━━━━━━\u001b[0m\u001b[37m\u001b[0m \u001b[1m1s\u001b[0m 36ms/step - accuracy: 0.9710 - loss: 0.0077 - precision: 0.9923 - recall: 0.9578 - val_accuracy: 0.8512 - val_loss: 0.0966 - val_precision: 0.8870 - val_recall: 0.8532\n",
      "Epoch 37/200\n",
      "\u001b[1m40/40\u001b[0m \u001b[32m━━━━━━━━━━━━━━━━━━━━\u001b[0m\u001b[37m\u001b[0m \u001b[1m1s\u001b[0m 36ms/step - accuracy: 0.9702 - loss: 0.0078 - precision: 0.9922 - recall: 0.9567 - val_accuracy: 0.8512 - val_loss: 0.0922 - val_precision: 0.8906 - val_recall: 0.8488\n",
      "Epoch 38/200\n",
      "\u001b[1m40/40\u001b[0m \u001b[32m━━━━━━━━━━━━━━━━━━━━\u001b[0m\u001b[37m\u001b[0m \u001b[1m1s\u001b[0m 35ms/step - accuracy: 0.9706 - loss: 0.0081 - precision: 0.9924 - recall: 0.9576 - val_accuracy: 0.8486 - val_loss: 0.0847 - val_precision: 0.8938 - val_recall: 0.8399\n",
      "Epoch 39/200\n",
      "\u001b[1m40/40\u001b[0m \u001b[32m━━━━━━━━━━━━━━━━━━━━\u001b[0m\u001b[37m\u001b[0m \u001b[1m1s\u001b[0m 36ms/step - accuracy: 0.9744 - loss: 0.0072 - precision: 0.9937 - recall: 0.9621 - val_accuracy: 0.8503 - val_loss: 0.0949 - val_precision: 0.8857 - val_recall: 0.8532\n",
      "Epoch 40/200\n",
      "\u001b[1m40/40\u001b[0m \u001b[32m━━━━━━━━━━━━━━━━━━━━\u001b[0m\u001b[37m\u001b[0m \u001b[1m1s\u001b[0m 35ms/step - accuracy: 0.9732 - loss: 0.0075 - precision: 0.9913 - recall: 0.9622 - val_accuracy: 0.8452 - val_loss: 0.1047 - val_precision: 0.8799 - val_recall: 0.8502\n",
      "Epoch 41/200\n",
      "\u001b[1m40/40\u001b[0m \u001b[32m━━━━━━━━━━━━━━━━━━━━\u001b[0m\u001b[37m\u001b[0m \u001b[1m2s\u001b[0m 38ms/step - accuracy: 0.9712 - loss: 0.0071 - precision: 0.9915 - recall: 0.9591 - val_accuracy: 0.8529 - val_loss: 0.0953 - val_precision: 0.8897 - val_recall: 0.8532\n",
      "Epoch 42/200\n",
      "\u001b[1m40/40\u001b[0m \u001b[32m━━━━━━━━━━━━━━━━━━━━\u001b[0m\u001b[37m\u001b[0m \u001b[1m1s\u001b[0m 37ms/step - accuracy: 0.9763 - loss: 0.0070 - precision: 0.9946 - recall: 0.9645 - val_accuracy: 0.8426 - val_loss: 0.0952 - val_precision: 0.8877 - val_recall: 0.8355\n",
      "Epoch 43/200\n",
      "\u001b[1m40/40\u001b[0m \u001b[32m━━━━━━━━━━━━━━━━━━━━\u001b[0m\u001b[37m\u001b[0m \u001b[1m1s\u001b[0m 36ms/step - accuracy: 0.9760 - loss: 0.0062 - precision: 0.9931 - recall: 0.9660 - val_accuracy: 0.8494 - val_loss: 0.1081 - val_precision: 0.8741 - val_recall: 0.8664\n",
      "Epoch 43: early stopping\n",
      "BiLSTM finished training\n",
      "BiLSTM saved to /kaggle/working/BiLSTM.h5\n",
      "--------------------------------------------------\n",
      "Epoch 1/200\n"
     ]
    },
    {
     "name": "stderr",
     "output_type": "stream",
     "text": [
      "/usr/local/lib/python3.11/dist-packages/keras/src/layers/layer.py:934: UserWarning: Layer 'conv1d_5' (of type Conv1D) was passed an input with a mask attached to it. However, this layer does not support masking and will therefore destroy the mask information. Downstream layers will not see the mask.\n",
      "  warnings.warn(\n"
     ]
    },
    {
     "name": "stdout",
     "output_type": "stream",
     "text": [
      "\u001b[1m40/40\u001b[0m \u001b[32m━━━━━━━━━━━━━━━━━━━━\u001b[0m\u001b[37m\u001b[0m \u001b[1m9s\u001b[0m 70ms/step - accuracy: 0.4422 - loss: 0.1365 - precision: 0.5758 - recall: 0.1273 - val_accuracy: 0.4175 - val_loss: 0.1163 - val_precision: 0.0000e+00 - val_recall: 0.0000e+00\n",
      "Epoch 2/200\n",
      "\u001b[1m40/40\u001b[0m \u001b[32m━━━━━━━━━━━━━━━━━━━━\u001b[0m\u001b[37m\u001b[0m \u001b[1m1s\u001b[0m 37ms/step - accuracy: 0.4243 - loss: 0.1148 - precision: 0.7393 - recall: 0.0298 - val_accuracy: 0.4525 - val_loss: 0.1008 - val_precision: 0.9020 - val_recall: 0.0675\n",
      "Epoch 3/200\n",
      "\u001b[1m40/40\u001b[0m \u001b[32m━━━━━━━━━━━━━━━━━━━━\u001b[0m\u001b[37m\u001b[0m \u001b[1m1s\u001b[0m 37ms/step - accuracy: 0.4837 - loss: 0.1024 - precision: 0.7917 - recall: 0.1639 - val_accuracy: 0.5731 - val_loss: 0.0906 - val_precision: 0.9062 - val_recall: 0.2981\n",
      "Epoch 4/200\n",
      "\u001b[1m40/40\u001b[0m \u001b[32m━━━━━━━━━━━━━━━━━━━━\u001b[0m\u001b[37m\u001b[0m \u001b[1m1s\u001b[0m 37ms/step - accuracy: 0.5717 - loss: 0.0933 - precision: 0.8267 - recall: 0.3285 - val_accuracy: 0.7032 - val_loss: 0.0843 - val_precision: 0.8494 - val_recall: 0.5962\n",
      "Epoch 5/200\n",
      "\u001b[1m40/40\u001b[0m \u001b[32m━━━━━━━━━━━━━━━━━━━━\u001b[0m\u001b[37m\u001b[0m \u001b[1m1s\u001b[0m 36ms/step - accuracy: 0.6270 - loss: 0.0866 - precision: 0.8394 - recall: 0.4496 - val_accuracy: 0.6681 - val_loss: 0.0788 - val_precision: 0.8907 - val_recall: 0.4905\n",
      "Epoch 6/200\n",
      "\u001b[1m40/40\u001b[0m \u001b[32m━━━━━━━━━━━━━━━━━━━━\u001b[0m\u001b[37m\u001b[0m \u001b[1m1s\u001b[0m 37ms/step - accuracy: 0.6351 - loss: 0.0826 - precision: 0.8541 - recall: 0.4501 - val_accuracy: 0.6989 - val_loss: 0.0759 - val_precision: 0.9102 - val_recall: 0.5360\n",
      "Epoch 7/200\n",
      "\u001b[1m40/40\u001b[0m \u001b[32m━━━━━━━━━━━━━━━━━━━━\u001b[0m\u001b[37m\u001b[0m \u001b[1m1s\u001b[0m 37ms/step - accuracy: 0.6502 - loss: 0.0797 - precision: 0.8690 - recall: 0.4820 - val_accuracy: 0.7562 - val_loss: 0.0764 - val_precision: 0.8750 - val_recall: 0.6784\n",
      "Epoch 8/200\n",
      "\u001b[1m40/40\u001b[0m \u001b[32m━━━━━━━━━━━━━━━━━━━━\u001b[0m\u001b[37m\u001b[0m \u001b[1m1s\u001b[0m 37ms/step - accuracy: 0.6830 - loss: 0.0740 - precision: 0.8904 - recall: 0.5238 - val_accuracy: 0.7819 - val_loss: 0.0705 - val_precision: 0.8845 - val_recall: 0.7195\n",
      "Epoch 9/200\n",
      "\u001b[1m40/40\u001b[0m \u001b[32m━━━━━━━━━━━━━━━━━━━━\u001b[0m\u001b[37m\u001b[0m \u001b[1m1s\u001b[0m 37ms/step - accuracy: 0.7151 - loss: 0.0712 - precision: 0.8833 - recall: 0.5853 - val_accuracy: 0.7374 - val_loss: 0.0659 - val_precision: 0.9231 - val_recall: 0.5991\n",
      "Epoch 10/200\n",
      "\u001b[1m40/40\u001b[0m \u001b[32m━━━━━━━━━━━━━━━━━━━━\u001b[0m\u001b[37m\u001b[0m \u001b[1m1s\u001b[0m 37ms/step - accuracy: 0.7181 - loss: 0.0680 - precision: 0.9010 - recall: 0.5730 - val_accuracy: 0.7810 - val_loss: 0.0628 - val_precision: 0.9079 - val_recall: 0.6946\n",
      "Epoch 11/200\n",
      "\u001b[1m40/40\u001b[0m \u001b[32m━━━━━━━━━━━━━━━━━━━━\u001b[0m\u001b[37m\u001b[0m \u001b[1m2s\u001b[0m 37ms/step - accuracy: 0.7296 - loss: 0.0661 - precision: 0.8987 - recall: 0.6055 - val_accuracy: 0.8186 - val_loss: 0.0654 - val_precision: 0.8740 - val_recall: 0.8047\n",
      "Epoch 12/200\n",
      "\u001b[1m40/40\u001b[0m \u001b[32m━━━━━━━━━━━━━━━━━━━━\u001b[0m\u001b[37m\u001b[0m \u001b[1m1s\u001b[0m 37ms/step - accuracy: 0.7335 - loss: 0.0656 - precision: 0.8952 - recall: 0.6077 - val_accuracy: 0.8195 - val_loss: 0.0633 - val_precision: 0.8730 - val_recall: 0.8076\n",
      "Epoch 13/200\n",
      "\u001b[1m40/40\u001b[0m \u001b[32m━━━━━━━━━━━━━━━━━━━━\u001b[0m\u001b[37m\u001b[0m \u001b[1m1s\u001b[0m 37ms/step - accuracy: 0.7545 - loss: 0.0616 - precision: 0.8991 - recall: 0.6576 - val_accuracy: 0.7750 - val_loss: 0.0583 - val_precision: 0.9197 - val_recall: 0.6725\n",
      "Epoch 14/200\n",
      "\u001b[1m40/40\u001b[0m \u001b[32m━━━━━━━━━━━━━━━━━━━━\u001b[0m\u001b[37m\u001b[0m \u001b[1m2s\u001b[0m 38ms/step - accuracy: 0.7471 - loss: 0.0618 - precision: 0.9082 - recall: 0.6280 - val_accuracy: 0.7391 - val_loss: 0.0573 - val_precision: 0.9519 - val_recall: 0.5815\n",
      "Epoch 15/200\n",
      "\u001b[1m40/40\u001b[0m \u001b[32m━━━━━━━━━━━━━━━━━━━━\u001b[0m\u001b[37m\u001b[0m \u001b[1m2s\u001b[0m 38ms/step - accuracy: 0.7462 - loss: 0.0613 - precision: 0.9105 - recall: 0.6324 - val_accuracy: 0.7913 - val_loss: 0.0565 - val_precision: 0.9344 - val_recall: 0.6902\n",
      "Epoch 16/200\n",
      "\u001b[1m40/40\u001b[0m \u001b[32m━━━━━━━━━━━━━━━━━━━━\u001b[0m\u001b[37m\u001b[0m \u001b[1m2s\u001b[0m 37ms/step - accuracy: 0.7555 - loss: 0.0601 - precision: 0.9047 - recall: 0.6511 - val_accuracy: 0.7947 - val_loss: 0.0572 - val_precision: 0.9106 - val_recall: 0.7181\n",
      "Epoch 17/200\n",
      "\u001b[1m40/40\u001b[0m \u001b[32m━━━━━━━━━━━━━━━━━━━━\u001b[0m\u001b[37m\u001b[0m \u001b[1m1s\u001b[0m 37ms/step - accuracy: 0.7660 - loss: 0.0586 - precision: 0.9179 - recall: 0.6492 - val_accuracy: 0.8229 - val_loss: 0.0547 - val_precision: 0.8990 - val_recall: 0.7841\n",
      "Epoch 18/200\n",
      "\u001b[1m40/40\u001b[0m \u001b[32m━━━━━━━━━━━━━━━━━━━━\u001b[0m\u001b[37m\u001b[0m \u001b[1m2s\u001b[0m 37ms/step - accuracy: 0.7669 - loss: 0.0569 - precision: 0.9152 - recall: 0.6647 - val_accuracy: 0.8033 - val_loss: 0.0561 - val_precision: 0.9138 - val_recall: 0.7313\n",
      "Epoch 19/200\n",
      "\u001b[1m40/40\u001b[0m \u001b[32m━━━━━━━━━━━━━━━━━━━━\u001b[0m\u001b[37m\u001b[0m \u001b[1m2s\u001b[0m 37ms/step - accuracy: 0.7772 - loss: 0.0552 - precision: 0.9267 - recall: 0.6678 - val_accuracy: 0.8315 - val_loss: 0.0534 - val_precision: 0.9130 - val_recall: 0.7856\n",
      "Epoch 20/200\n",
      "\u001b[1m40/40\u001b[0m \u001b[32m━━━━━━━━━━━━━━━━━━━━\u001b[0m\u001b[37m\u001b[0m \u001b[1m2s\u001b[0m 37ms/step - accuracy: 0.7794 - loss: 0.0545 - precision: 0.9245 - recall: 0.6751 - val_accuracy: 0.8041 - val_loss: 0.0519 - val_precision: 0.9346 - val_recall: 0.7137\n",
      "Epoch 21/200\n",
      "\u001b[1m40/40\u001b[0m \u001b[32m━━━━━━━━━━━━━━━━━━━━\u001b[0m\u001b[37m\u001b[0m \u001b[1m1s\u001b[0m 37ms/step - accuracy: 0.7767 - loss: 0.0545 - precision: 0.9179 - recall: 0.6805 - val_accuracy: 0.8015 - val_loss: 0.0522 - val_precision: 0.9342 - val_recall: 0.7093\n",
      "Epoch 22/200\n",
      "\u001b[1m40/40\u001b[0m \u001b[32m━━━━━━━━━━━━━━━━━━━━\u001b[0m\u001b[37m\u001b[0m \u001b[1m2s\u001b[0m 37ms/step - accuracy: 0.7858 - loss: 0.0540 - precision: 0.9198 - recall: 0.6931 - val_accuracy: 0.8135 - val_loss: 0.0504 - val_precision: 0.9311 - val_recall: 0.7342\n",
      "Epoch 23/200\n",
      "\u001b[1m40/40\u001b[0m \u001b[32m━━━━━━━━━━━━━━━━━━━━\u001b[0m\u001b[37m\u001b[0m \u001b[1m1s\u001b[0m 37ms/step - accuracy: 0.7833 - loss: 0.0531 - precision: 0.9231 - recall: 0.6830 - val_accuracy: 0.8178 - val_loss: 0.0515 - val_precision: 0.9021 - val_recall: 0.7709\n",
      "Epoch 24/200\n",
      "\u001b[1m40/40\u001b[0m \u001b[32m━━━━━━━━━━━━━━━━━━━━\u001b[0m\u001b[37m\u001b[0m \u001b[1m1s\u001b[0m 37ms/step - accuracy: 0.7865 - loss: 0.0532 - precision: 0.9198 - recall: 0.6997 - val_accuracy: 0.8127 - val_loss: 0.0526 - val_precision: 0.9170 - val_recall: 0.7460\n",
      "Epoch 25/200\n",
      "\u001b[1m40/40\u001b[0m \u001b[32m━━━━━━━━━━━━━━━━━━━━\u001b[0m\u001b[37m\u001b[0m \u001b[1m1s\u001b[0m 37ms/step - accuracy: 0.7893 - loss: 0.0534 - precision: 0.9137 - recall: 0.7048 - val_accuracy: 0.7998 - val_loss: 0.0518 - val_precision: 0.9056 - val_recall: 0.7327\n",
      "Epoch 26/200\n",
      "\u001b[1m40/40\u001b[0m \u001b[32m━━━━━━━━━━━━━━━━━━━━\u001b[0m\u001b[37m\u001b[0m \u001b[1m1s\u001b[0m 37ms/step - accuracy: 0.7930 - loss: 0.0511 - precision: 0.9309 - recall: 0.6976 - val_accuracy: 0.8349 - val_loss: 0.0497 - val_precision: 0.9164 - val_recall: 0.7885\n",
      "Epoch 27/200\n",
      "\u001b[1m40/40\u001b[0m \u001b[32m━━━━━━━━━━━━━━━━━━━━\u001b[0m\u001b[37m\u001b[0m \u001b[1m1s\u001b[0m 37ms/step - accuracy: 0.7933 - loss: 0.0511 - precision: 0.9250 - recall: 0.7031 - val_accuracy: 0.8263 - val_loss: 0.0530 - val_precision: 0.9024 - val_recall: 0.7871\n",
      "Epoch 28/200\n",
      "\u001b[1m40/40\u001b[0m \u001b[32m━━━━━━━━━━━━━━━━━━━━\u001b[0m\u001b[37m\u001b[0m \u001b[1m1s\u001b[0m 37ms/step - accuracy: 0.7842 - loss: 0.0532 - precision: 0.9206 - recall: 0.6841 - val_accuracy: 0.8272 - val_loss: 0.0535 - val_precision: 0.9012 - val_recall: 0.7900\n",
      "Epoch 29/200\n",
      "\u001b[1m40/40\u001b[0m \u001b[32m━━━━━━━━━━━━━━━━━━━━\u001b[0m\u001b[37m\u001b[0m \u001b[1m1s\u001b[0m 37ms/step - accuracy: 0.7882 - loss: 0.0526 - precision: 0.9134 - recall: 0.7022 - val_accuracy: 0.7990 - val_loss: 0.0488 - val_precision: 0.9373 - val_recall: 0.7019\n",
      "Epoch 30/200\n",
      "\u001b[1m40/40\u001b[0m \u001b[32m━━━━━━━━━━━━━━━━━━━━\u001b[0m\u001b[37m\u001b[0m \u001b[1m1s\u001b[0m 37ms/step - accuracy: 0.8134 - loss: 0.0499 - precision: 0.9330 - recall: 0.7342 - val_accuracy: 0.7879 - val_loss: 0.0480 - val_precision: 0.9446 - val_recall: 0.6755\n",
      "Epoch 31/200\n",
      "\u001b[1m40/40\u001b[0m \u001b[32m━━━━━━━━━━━━━━━━━━━━\u001b[0m\u001b[37m\u001b[0m \u001b[1m1s\u001b[0m 37ms/step - accuracy: 0.7990 - loss: 0.0491 - precision: 0.9372 - recall: 0.7056 - val_accuracy: 0.8152 - val_loss: 0.0471 - val_precision: 0.9379 - val_recall: 0.7313\n",
      "Epoch 32/200\n",
      "\u001b[1m40/40\u001b[0m \u001b[32m━━━━━━━━━━━━━━━━━━━━\u001b[0m\u001b[37m\u001b[0m \u001b[1m1s\u001b[0m 37ms/step - accuracy: 0.8047 - loss: 0.0493 - precision: 0.9342 - recall: 0.7145 - val_accuracy: 0.8460 - val_loss: 0.0482 - val_precision: 0.9073 - val_recall: 0.8194\n",
      "Epoch 33/200\n",
      "\u001b[1m40/40\u001b[0m \u001b[32m━━━━━━━━━━━━━━━━━━━━\u001b[0m\u001b[37m\u001b[0m \u001b[1m1s\u001b[0m 37ms/step - accuracy: 0.8057 - loss: 0.0492 - precision: 0.9289 - recall: 0.7222 - val_accuracy: 0.7793 - val_loss: 0.0491 - val_precision: 0.9548 - val_recall: 0.6520\n",
      "Epoch 34/200\n",
      "\u001b[1m40/40\u001b[0m \u001b[32m━━━━━━━━━━━━━━━━━━━━\u001b[0m\u001b[37m\u001b[0m \u001b[1m1s\u001b[0m 37ms/step - accuracy: 0.7987 - loss: 0.0494 - precision: 0.9370 - recall: 0.7023 - val_accuracy: 0.7776 - val_loss: 0.0480 - val_precision: 0.9507 - val_recall: 0.6520\n",
      "Epoch 35/200\n",
      "\u001b[1m40/40\u001b[0m \u001b[32m━━━━━━━━━━━━━━━━━━━━\u001b[0m\u001b[37m\u001b[0m \u001b[1m1s\u001b[0m 37ms/step - accuracy: 0.7998 - loss: 0.0490 - precision: 0.9358 - recall: 0.7058 - val_accuracy: 0.8015 - val_loss: 0.0474 - val_precision: 0.9463 - val_recall: 0.6990\n",
      "Epoch 36/200\n",
      "\u001b[1m40/40\u001b[0m \u001b[32m━━━━━━━━━━━━━━━━━━━━\u001b[0m\u001b[37m\u001b[0m \u001b[1m2s\u001b[0m 37ms/step - accuracy: 0.8069 - loss: 0.0486 - precision: 0.9302 - recall: 0.7248 - val_accuracy: 0.8075 - val_loss: 0.0461 - val_precision: 0.9419 - val_recall: 0.7137\n",
      "Epoch 37/200\n",
      "\u001b[1m40/40\u001b[0m \u001b[32m━━━━━━━━━━━━━━━━━━━━\u001b[0m\u001b[37m\u001b[0m \u001b[1m1s\u001b[0m 37ms/step - accuracy: 0.7707 - loss: 0.0527 - precision: 0.9269 - recall: 0.6549 - val_accuracy: 0.8067 - val_loss: 0.0476 - val_precision: 0.9470 - val_recall: 0.7078\n",
      "Epoch 38/200\n",
      "\u001b[1m40/40\u001b[0m \u001b[32m━━━━━━━━━━━━━━━━━━━━\u001b[0m\u001b[37m\u001b[0m \u001b[1m1s\u001b[0m 37ms/step - accuracy: 0.8012 - loss: 0.0508 - precision: 0.9329 - recall: 0.7142 - val_accuracy: 0.7947 - val_loss: 0.0490 - val_precision: 0.9509 - val_recall: 0.6828\n",
      "Epoch 39/200\n",
      "\u001b[1m40/40\u001b[0m \u001b[32m━━━━━━━━━━━━━━━━━━━━\u001b[0m\u001b[37m\u001b[0m \u001b[1m1s\u001b[0m 37ms/step - accuracy: 0.8078 - loss: 0.0486 - precision: 0.9352 - recall: 0.7166 - val_accuracy: 0.8204 - val_loss: 0.0455 - val_precision: 0.9385 - val_recall: 0.7401\n",
      "Epoch 40/200\n",
      "\u001b[1m40/40\u001b[0m \u001b[32m━━━━━━━━━━━━━━━━━━━━\u001b[0m\u001b[37m\u001b[0m \u001b[1m1s\u001b[0m 36ms/step - accuracy: 0.8117 - loss: 0.0473 - precision: 0.9378 - recall: 0.7272 - val_accuracy: 0.8152 - val_loss: 0.0462 - val_precision: 0.9532 - val_recall: 0.7181\n",
      "Epoch 41/200\n",
      "\u001b[1m40/40\u001b[0m \u001b[32m━━━━━━━━━━━━━━━━━━━━\u001b[0m\u001b[37m\u001b[0m \u001b[1m1s\u001b[0m 36ms/step - accuracy: 0.8140 - loss: 0.0474 - precision: 0.9371 - recall: 0.7318 - val_accuracy: 0.7904 - val_loss: 0.0467 - val_precision: 0.9467 - val_recall: 0.6784\n",
      "Epoch 42/200\n",
      "\u001b[1m40/40\u001b[0m \u001b[32m━━━━━━━━━━━━━━━━━━━━\u001b[0m\u001b[37m\u001b[0m \u001b[1m1s\u001b[0m 36ms/step - accuracy: 0.8088 - loss: 0.0473 - precision: 0.9447 - recall: 0.7134 - val_accuracy: 0.8400 - val_loss: 0.0494 - val_precision: 0.8971 - val_recall: 0.8194\n",
      "Epoch 43/200\n",
      "\u001b[1m40/40\u001b[0m \u001b[32m━━━━━━━━━━━━━━━━━━━━\u001b[0m\u001b[37m\u001b[0m \u001b[1m1s\u001b[0m 36ms/step - accuracy: 0.8079 - loss: 0.0486 - precision: 0.9328 - recall: 0.7241 - val_accuracy: 0.8460 - val_loss: 0.0521 - val_precision: 0.8756 - val_recall: 0.8576\n",
      "Epoch 44/200\n",
      "\u001b[1m40/40\u001b[0m \u001b[32m━━━━━━━━━━━━━━━━━━━━\u001b[0m\u001b[37m\u001b[0m \u001b[1m1s\u001b[0m 37ms/step - accuracy: 0.8182 - loss: 0.0485 - precision: 0.9310 - recall: 0.7434 - val_accuracy: 0.8238 - val_loss: 0.0470 - val_precision: 0.9406 - val_recall: 0.7445\n",
      "Epoch 45/200\n",
      "\u001b[1m40/40\u001b[0m \u001b[32m━━━━━━━━━━━━━━━━━━━━\u001b[0m\u001b[37m\u001b[0m \u001b[1m1s\u001b[0m 36ms/step - accuracy: 0.8084 - loss: 0.0482 - precision: 0.9255 - recall: 0.7292 - val_accuracy: 0.8152 - val_loss: 0.0463 - val_precision: 0.9412 - val_recall: 0.7283\n",
      "Epoch 46/200\n",
      "\u001b[1m40/40\u001b[0m \u001b[32m━━━━━━━━━━━━━━━━━━━━\u001b[0m\u001b[37m\u001b[0m \u001b[1m1s\u001b[0m 36ms/step - accuracy: 0.8078 - loss: 0.0477 - precision: 0.9375 - recall: 0.7161 - val_accuracy: 0.8144 - val_loss: 0.0469 - val_precision: 0.9462 - val_recall: 0.7225\n",
      "Epoch 47/200\n",
      "\u001b[1m40/40\u001b[0m \u001b[32m━━━━━━━━━━━━━━━━━━━━\u001b[0m\u001b[37m\u001b[0m \u001b[1m1s\u001b[0m 36ms/step - accuracy: 0.8035 - loss: 0.0476 - precision: 0.9402 - recall: 0.7004 - val_accuracy: 0.8178 - val_loss: 0.0454 - val_precision: 0.9466 - val_recall: 0.7283\n",
      "Epoch 48/200\n",
      "\u001b[1m40/40\u001b[0m \u001b[32m━━━━━━━━━━━━━━━━━━━━\u001b[0m\u001b[37m\u001b[0m \u001b[1m1s\u001b[0m 36ms/step - accuracy: 0.8203 - loss: 0.0460 - precision: 0.9379 - recall: 0.7390 - val_accuracy: 0.8246 - val_loss: 0.0455 - val_precision: 0.9359 - val_recall: 0.7504\n",
      "Epoch 49/200\n",
      "\u001b[1m40/40\u001b[0m \u001b[32m━━━━━━━━━━━━━━━━━━━━\u001b[0m\u001b[37m\u001b[0m \u001b[1m1s\u001b[0m 36ms/step - accuracy: 0.8249 - loss: 0.0464 - precision: 0.9426 - recall: 0.7473 - val_accuracy: 0.8221 - val_loss: 0.0452 - val_precision: 0.9471 - val_recall: 0.7357\n",
      "Epoch 50/200\n",
      "\u001b[1m40/40\u001b[0m \u001b[32m━━━━━━━━━━━━━━━━━━━━\u001b[0m\u001b[37m\u001b[0m \u001b[1m1s\u001b[0m 36ms/step - accuracy: 0.8177 - loss: 0.0462 - precision: 0.9396 - recall: 0.7368 - val_accuracy: 0.7716 - val_loss: 0.0476 - val_precision: 0.9580 - val_recall: 0.6358\n",
      "Epoch 51/200\n",
      "\u001b[1m40/40\u001b[0m \u001b[32m━━━━━━━━━━━━━━━━━━━━\u001b[0m\u001b[37m\u001b[0m \u001b[1m1s\u001b[0m 36ms/step - accuracy: 0.8013 - loss: 0.0469 - precision: 0.9457 - recall: 0.6962 - val_accuracy: 0.8460 - val_loss: 0.0471 - val_precision: 0.8970 - val_recall: 0.8311\n",
      "Epoch 52/200\n",
      "\u001b[1m40/40\u001b[0m \u001b[32m━━━━━━━━━━━━━━━━━━━━\u001b[0m\u001b[37m\u001b[0m \u001b[1m1s\u001b[0m 36ms/step - accuracy: 0.8124 - loss: 0.0479 - precision: 0.9330 - recall: 0.7308 - val_accuracy: 0.8212 - val_loss: 0.0450 - val_precision: 0.9387 - val_recall: 0.7416\n",
      "Epoch 53/200\n",
      "\u001b[1m40/40\u001b[0m \u001b[32m━━━━━━━━━━━━━━━━━━━━\u001b[0m\u001b[37m\u001b[0m \u001b[1m1s\u001b[0m 36ms/step - accuracy: 0.8142 - loss: 0.0462 - precision: 0.9392 - recall: 0.7296 - val_accuracy: 0.8426 - val_loss: 0.0468 - val_precision: 0.9121 - val_recall: 0.8076\n",
      "Epoch 54/200\n",
      "\u001b[1m40/40\u001b[0m \u001b[32m━━━━━━━━━━━━━━━━━━━━\u001b[0m\u001b[37m\u001b[0m \u001b[1m1s\u001b[0m 36ms/step - accuracy: 0.8230 - loss: 0.0461 - precision: 0.9397 - recall: 0.7425 - val_accuracy: 0.8204 - val_loss: 0.0449 - val_precision: 0.9435 - val_recall: 0.7357\n",
      "Epoch 55/200\n",
      "\u001b[1m40/40\u001b[0m \u001b[32m━━━━━━━━━━━━━━━━━━━━\u001b[0m\u001b[37m\u001b[0m \u001b[1m1s\u001b[0m 36ms/step - accuracy: 0.8321 - loss: 0.0450 - precision: 0.9422 - recall: 0.7587 - val_accuracy: 0.7921 - val_loss: 0.0469 - val_precision: 0.9506 - val_recall: 0.6784\n",
      "Epoch 56/200\n",
      "\u001b[1m40/40\u001b[0m \u001b[32m━━━━━━━━━━━━━━━━━━━━\u001b[0m\u001b[37m\u001b[0m \u001b[1m1s\u001b[0m 36ms/step - accuracy: 0.8185 - loss: 0.0459 - precision: 0.9370 - recall: 0.7354 - val_accuracy: 0.8503 - val_loss: 0.0492 - val_precision: 0.9029 - val_recall: 0.8326\n",
      "Epoch 57/200\n",
      "\u001b[1m40/40\u001b[0m \u001b[32m━━━━━━━━━━━━━━━━━━━━\u001b[0m\u001b[37m\u001b[0m \u001b[1m1s\u001b[0m 37ms/step - accuracy: 0.8311 - loss: 0.0443 - precision: 0.9416 - recall: 0.7587 - val_accuracy: 0.8392 - val_loss: 0.0471 - val_precision: 0.9302 - val_recall: 0.7827\n",
      "Epoch 58/200\n",
      "\u001b[1m40/40\u001b[0m \u001b[32m━━━━━━━━━━━━━━━━━━━━\u001b[0m\u001b[37m\u001b[0m \u001b[1m1s\u001b[0m 37ms/step - accuracy: 0.8263 - loss: 0.0438 - precision: 0.9465 - recall: 0.7437 - val_accuracy: 0.7853 - val_loss: 0.0467 - val_precision: 0.9654 - val_recall: 0.6549\n",
      "Epoch 59/200\n",
      "\u001b[1m40/40\u001b[0m \u001b[32m━━━━━━━━━━━━━━━━━━━━\u001b[0m\u001b[37m\u001b[0m \u001b[1m1s\u001b[0m 36ms/step - accuracy: 0.8153 - loss: 0.0461 - precision: 0.9452 - recall: 0.7239 - val_accuracy: 0.8469 - val_loss: 0.0492 - val_precision: 0.8959 - val_recall: 0.8341\n",
      "Epoch 60/200\n",
      "\u001b[1m40/40\u001b[0m \u001b[32m━━━━━━━━━━━━━━━━━━━━\u001b[0m\u001b[37m\u001b[0m \u001b[1m1s\u001b[0m 36ms/step - accuracy: 0.8295 - loss: 0.0453 - precision: 0.9362 - recall: 0.7611 - val_accuracy: 0.8127 - val_loss: 0.0472 - val_precision: 0.9358 - val_recall: 0.7283\n",
      "Epoch 61/200\n",
      "\u001b[1m40/40\u001b[0m \u001b[32m━━━━━━━━━━━━━━━━━━━━\u001b[0m\u001b[37m\u001b[0m \u001b[1m1s\u001b[0m 36ms/step - accuracy: 0.8265 - loss: 0.0463 - precision: 0.9428 - recall: 0.7449 - val_accuracy: 0.8092 - val_loss: 0.0461 - val_precision: 0.9508 - val_recall: 0.7093\n",
      "Epoch 62/200\n",
      "\u001b[1m40/40\u001b[0m \u001b[32m━━━━━━━━━━━━━━━━━━━━\u001b[0m\u001b[37m\u001b[0m \u001b[1m1s\u001b[0m 36ms/step - accuracy: 0.8240 - loss: 0.0448 - precision: 0.9407 - recall: 0.7453 - val_accuracy: 0.8392 - val_loss: 0.0468 - val_precision: 0.9243 - val_recall: 0.7885\n",
      "Epoch 63/200\n",
      "\u001b[1m40/40\u001b[0m \u001b[32m━━━━━━━━━━━━━━━━━━━━\u001b[0m\u001b[37m\u001b[0m \u001b[1m1s\u001b[0m 36ms/step - accuracy: 0.8369 - loss: 0.0442 - precision: 0.9398 - recall: 0.7671 - val_accuracy: 0.8281 - val_loss: 0.0451 - val_precision: 0.9364 - val_recall: 0.7562\n",
      "Epoch 63: early stopping\n",
      "pre-CNN-BiLSTM finished training\n",
      "pre-CNN-BiLSTM saved to /kaggle/working/pre-CNN-BiLSTM.h5\n",
      "--------------------------------------------------\n",
      "Epoch 1/200\n",
      "\u001b[1m40/40\u001b[0m \u001b[32m━━━━━━━━━━━━━━━━━━━━\u001b[0m\u001b[37m\u001b[0m \u001b[1m7s\u001b[0m 65ms/step - accuracy: 0.4493 - loss: 0.0796 - precision: 0.6056 - recall: 0.1796 - val_accuracy: 0.4175 - val_loss: 0.0708 - val_precision: 0.0000e+00 - val_recall: 0.0000e+00\n",
      "Epoch 2/200\n",
      "\u001b[1m40/40\u001b[0m \u001b[32m━━━━━━━━━━━━━━━━━━━━\u001b[0m\u001b[37m\u001b[0m \u001b[1m1s\u001b[0m 30ms/step - accuracy: 0.4467 - loss: 0.0717 - precision: 0.7239 - recall: 0.0535 - val_accuracy: 0.4251 - val_loss: 0.0684 - val_precision: 1.0000 - val_recall: 0.0132\n",
      "Epoch 3/200\n",
      "\u001b[1m40/40\u001b[0m \u001b[32m━━━━━━━━━━━━━━━━━━━━\u001b[0m\u001b[37m\u001b[0m \u001b[1m1s\u001b[0m 30ms/step - accuracy: 0.4752 - loss: 0.0699 - precision: 0.8032 - recall: 0.1208 - val_accuracy: 0.5295 - val_loss: 0.0639 - val_precision: 0.9172 - val_recall: 0.2115\n",
      "Epoch 4/200\n",
      "\u001b[1m40/40\u001b[0m \u001b[32m━━━━━━━━━━━━━━━━━━━━\u001b[0m\u001b[37m\u001b[0m \u001b[1m1s\u001b[0m 30ms/step - accuracy: 0.5427 - loss: 0.0666 - precision: 0.8219 - recall: 0.2830 - val_accuracy: 0.6373 - val_loss: 0.0586 - val_precision: 0.9054 - val_recall: 0.4214\n",
      "Epoch 5/200\n",
      "\u001b[1m40/40\u001b[0m \u001b[32m━━━━━━━━━━━━━━━━━━━━\u001b[0m\u001b[37m\u001b[0m \u001b[1m1s\u001b[0m 30ms/step - accuracy: 0.6169 - loss: 0.0628 - precision: 0.8559 - recall: 0.4012 - val_accuracy: 0.7117 - val_loss: 0.0557 - val_precision: 0.8755 - val_recall: 0.5888\n",
      "Epoch 6/200\n",
      "\u001b[1m40/40\u001b[0m \u001b[32m━━━━━━━━━━━━━━━━━━━━\u001b[0m\u001b[37m\u001b[0m \u001b[1m1s\u001b[0m 30ms/step - accuracy: 0.6446 - loss: 0.0603 - precision: 0.8634 - recall: 0.4628 - val_accuracy: 0.7126 - val_loss: 0.0526 - val_precision: 0.9117 - val_recall: 0.5609\n",
      "Epoch 7/200\n",
      "\u001b[1m40/40\u001b[0m \u001b[32m━━━━━━━━━━━━━━━━━━━━\u001b[0m\u001b[37m\u001b[0m \u001b[1m1s\u001b[0m 30ms/step - accuracy: 0.6580 - loss: 0.0586 - precision: 0.8792 - recall: 0.4891 - val_accuracy: 0.7271 - val_loss: 0.0508 - val_precision: 0.9229 - val_recall: 0.5800\n",
      "Epoch 8/200\n",
      "\u001b[1m40/40\u001b[0m \u001b[32m━━━━━━━━━━━━━━━━━━━━\u001b[0m\u001b[37m\u001b[0m \u001b[1m1s\u001b[0m 30ms/step - accuracy: 0.6838 - loss: 0.0564 - precision: 0.8661 - recall: 0.5378 - val_accuracy: 0.7023 - val_loss: 0.0542 - val_precision: 0.9464 - val_recall: 0.5184\n",
      "Epoch 9/200\n",
      "\u001b[1m40/40\u001b[0m \u001b[32m━━━━━━━━━━━━━━━━━━━━\u001b[0m\u001b[37m\u001b[0m \u001b[1m1s\u001b[0m 30ms/step - accuracy: 0.6813 - loss: 0.0557 - precision: 0.8773 - recall: 0.5263 - val_accuracy: 0.7331 - val_loss: 0.0484 - val_precision: 0.9424 - val_recall: 0.5771\n",
      "Epoch 10/200\n",
      "\u001b[1m40/40\u001b[0m \u001b[32m━━━━━━━━━━━━━━━━━━━━\u001b[0m\u001b[37m\u001b[0m \u001b[1m1s\u001b[0m 30ms/step - accuracy: 0.7081 - loss: 0.0531 - precision: 0.8956 - recall: 0.5644 - val_accuracy: 0.7203 - val_loss: 0.0470 - val_precision: 0.9538 - val_recall: 0.5463\n",
      "Epoch 11/200\n",
      "\u001b[1m40/40\u001b[0m \u001b[32m━━━━━━━━━━━━━━━━━━━━\u001b[0m\u001b[37m\u001b[0m \u001b[1m1s\u001b[0m 30ms/step - accuracy: 0.7064 - loss: 0.0522 - precision: 0.9051 - recall: 0.5515 - val_accuracy: 0.7263 - val_loss: 0.0465 - val_precision: 0.9570 - val_recall: 0.5551\n",
      "Epoch 12/200\n",
      "\u001b[1m40/40\u001b[0m \u001b[32m━━━━━━━━━━━━━━━━━━━━\u001b[0m\u001b[37m\u001b[0m \u001b[1m1s\u001b[0m 30ms/step - accuracy: 0.7216 - loss: 0.0503 - precision: 0.9069 - recall: 0.5709 - val_accuracy: 0.7280 - val_loss: 0.0455 - val_precision: 0.9481 - val_recall: 0.5639\n",
      "Epoch 13/200\n",
      "\u001b[1m40/40\u001b[0m \u001b[32m━━━━━━━━━━━━━━━━━━━━\u001b[0m\u001b[37m\u001b[0m \u001b[1m1s\u001b[0m 32ms/step - accuracy: 0.7401 - loss: 0.0485 - precision: 0.9226 - recall: 0.6061 - val_accuracy: 0.7451 - val_loss: 0.0439 - val_precision: 0.9382 - val_recall: 0.6021\n",
      "Epoch 14/200\n",
      "\u001b[1m40/40\u001b[0m \u001b[32m━━━━━━━━━━━━━━━━━━━━\u001b[0m\u001b[37m\u001b[0m \u001b[1m1s\u001b[0m 34ms/step - accuracy: 0.7430 - loss: 0.0475 - precision: 0.9206 - recall: 0.6091 - val_accuracy: 0.7451 - val_loss: 0.0425 - val_precision: 0.9464 - val_recall: 0.5962\n",
      "Epoch 15/200\n",
      "\u001b[1m40/40\u001b[0m \u001b[32m━━━━━━━━━━━━━━━━━━━━\u001b[0m\u001b[37m\u001b[0m \u001b[1m1s\u001b[0m 30ms/step - accuracy: 0.7581 - loss: 0.0461 - precision: 0.9189 - recall: 0.6436 - val_accuracy: 0.7990 - val_loss: 0.0426 - val_precision: 0.9145 - val_recall: 0.7225\n",
      "Epoch 16/200\n",
      "\u001b[1m40/40\u001b[0m \u001b[32m━━━━━━━━━━━━━━━━━━━━\u001b[0m\u001b[37m\u001b[0m \u001b[1m1s\u001b[0m 30ms/step - accuracy: 0.7480 - loss: 0.0478 - precision: 0.9193 - recall: 0.6259 - val_accuracy: 0.7528 - val_loss: 0.0430 - val_precision: 0.9395 - val_recall: 0.6153\n",
      "Epoch 17/200\n",
      "\u001b[1m40/40\u001b[0m \u001b[32m━━━━━━━━━━━━━━━━━━━━\u001b[0m\u001b[37m\u001b[0m \u001b[1m1s\u001b[0m 30ms/step - accuracy: 0.7624 - loss: 0.0460 - precision: 0.9196 - recall: 0.6495 - val_accuracy: 0.7844 - val_loss: 0.0408 - val_precision: 0.9264 - val_recall: 0.6843\n",
      "Epoch 18/200\n",
      "\u001b[1m40/40\u001b[0m \u001b[32m━━━━━━━━━━━━━━━━━━━━\u001b[0m\u001b[37m\u001b[0m \u001b[1m1s\u001b[0m 30ms/step - accuracy: 0.7545 - loss: 0.0458 - precision: 0.9213 - recall: 0.6363 - val_accuracy: 0.7759 - val_loss: 0.0407 - val_precision: 0.9392 - val_recall: 0.6579\n",
      "Epoch 19/200\n",
      "\u001b[1m40/40\u001b[0m \u001b[32m━━━━━━━━━━━━━━━━━━━━\u001b[0m\u001b[37m\u001b[0m \u001b[1m1s\u001b[0m 30ms/step - accuracy: 0.7657 - loss: 0.0454 - precision: 0.9268 - recall: 0.6490 - val_accuracy: 0.7408 - val_loss: 0.0417 - val_precision: 0.9655 - val_recall: 0.5756\n",
      "Epoch 20/200\n",
      "\u001b[1m40/40\u001b[0m \u001b[32m━━━━━━━━━━━━━━━━━━━━\u001b[0m\u001b[37m\u001b[0m \u001b[1m1s\u001b[0m 30ms/step - accuracy: 0.7432 - loss: 0.0457 - precision: 0.9318 - recall: 0.5998 - val_accuracy: 0.7186 - val_loss: 0.0435 - val_precision: 0.9706 - val_recall: 0.5330\n",
      "Epoch 21/200\n",
      "\u001b[1m40/40\u001b[0m \u001b[32m━━━━━━━━━━━━━━━━━━━━\u001b[0m\u001b[37m\u001b[0m \u001b[1m1s\u001b[0m 30ms/step - accuracy: 0.7647 - loss: 0.0441 - precision: 0.9311 - recall: 0.6428 - val_accuracy: 0.7579 - val_loss: 0.0408 - val_precision: 0.9585 - val_recall: 0.6109\n",
      "Epoch 22/200\n",
      "\u001b[1m40/40\u001b[0m \u001b[32m━━━━━━━━━━━━━━━━━━━━\u001b[0m\u001b[37m\u001b[0m \u001b[1m1s\u001b[0m 30ms/step - accuracy: 0.7661 - loss: 0.0440 - precision: 0.9220 - recall: 0.6552 - val_accuracy: 0.7904 - val_loss: 0.0401 - val_precision: 0.9395 - val_recall: 0.6843\n",
      "Epoch 23/200\n",
      "\u001b[1m40/40\u001b[0m \u001b[32m━━━━━━━━━━━━━━━━━━━━\u001b[0m\u001b[37m\u001b[0m \u001b[1m1s\u001b[0m 30ms/step - accuracy: 0.7769 - loss: 0.0435 - precision: 0.9322 - recall: 0.6629 - val_accuracy: 0.7665 - val_loss: 0.0408 - val_precision: 0.9615 - val_recall: 0.6241\n",
      "Epoch 24/200\n",
      "\u001b[1m40/40\u001b[0m \u001b[32m━━━━━━━━━━━━━━━━━━━━\u001b[0m\u001b[37m\u001b[0m \u001b[1m1s\u001b[0m 30ms/step - accuracy: 0.7819 - loss: 0.0427 - precision: 0.9337 - recall: 0.6764 - val_accuracy: 0.8169 - val_loss: 0.0391 - val_precision: 0.9300 - val_recall: 0.7416\n",
      "Epoch 25/200\n",
      "\u001b[1m40/40\u001b[0m \u001b[32m━━━━━━━━━━━━━━━━━━━━\u001b[0m\u001b[37m\u001b[0m \u001b[1m1s\u001b[0m 30ms/step - accuracy: 0.7823 - loss: 0.0416 - precision: 0.9345 - recall: 0.6791 - val_accuracy: 0.7810 - val_loss: 0.0391 - val_precision: 0.9590 - val_recall: 0.6520\n",
      "Epoch 26/200\n",
      "\u001b[1m40/40\u001b[0m \u001b[32m━━━━━━━━━━━━━━━━━━━━\u001b[0m\u001b[37m\u001b[0m \u001b[1m1s\u001b[0m 30ms/step - accuracy: 0.7770 - loss: 0.0426 - precision: 0.9324 - recall: 0.6693 - val_accuracy: 0.7861 - val_loss: 0.0381 - val_precision: 0.9575 - val_recall: 0.6623\n",
      "Epoch 27/200\n",
      "\u001b[1m40/40\u001b[0m \u001b[32m━━━━━━━━━━━━━━━━━━━━\u001b[0m\u001b[37m\u001b[0m \u001b[1m1s\u001b[0m 30ms/step - accuracy: 0.7854 - loss: 0.0427 - precision: 0.9377 - recall: 0.6763 - val_accuracy: 0.8084 - val_loss: 0.0386 - val_precision: 0.9420 - val_recall: 0.7151\n",
      "Epoch 28/200\n",
      "\u001b[1m40/40\u001b[0m \u001b[32m━━━━━━━━━━━━━━━━━━━━\u001b[0m\u001b[37m\u001b[0m \u001b[1m1s\u001b[0m 30ms/step - accuracy: 0.7908 - loss: 0.0413 - precision: 0.9324 - recall: 0.6935 - val_accuracy: 0.7827 - val_loss: 0.0391 - val_precision: 0.9439 - val_recall: 0.6667\n",
      "Epoch 29/200\n",
      "\u001b[1m40/40\u001b[0m \u001b[32m━━━━━━━━━━━━━━━━━━━━\u001b[0m\u001b[37m\u001b[0m \u001b[1m1s\u001b[0m 30ms/step - accuracy: 0.7939 - loss: 0.0402 - precision: 0.9414 - recall: 0.6893 - val_accuracy: 0.7733 - val_loss: 0.0386 - val_precision: 0.9602 - val_recall: 0.6373\n",
      "Epoch 30/200\n",
      "\u001b[1m40/40\u001b[0m \u001b[32m━━━━━━━━━━━━━━━━━━━━\u001b[0m\u001b[37m\u001b[0m \u001b[1m1s\u001b[0m 30ms/step - accuracy: 0.7819 - loss: 0.0409 - precision: 0.9392 - recall: 0.6702 - val_accuracy: 0.8221 - val_loss: 0.0375 - val_precision: 0.9437 - val_recall: 0.7386\n",
      "Epoch 31/200\n",
      "\u001b[1m40/40\u001b[0m \u001b[32m━━━━━━━━━━━━━━━━━━━━\u001b[0m\u001b[37m\u001b[0m \u001b[1m1s\u001b[0m 29ms/step - accuracy: 0.7908 - loss: 0.0403 - precision: 0.9441 - recall: 0.6790 - val_accuracy: 0.7913 - val_loss: 0.0374 - val_precision: 0.9524 - val_recall: 0.6755\n",
      "Epoch 32/200\n",
      "\u001b[1m40/40\u001b[0m \u001b[32m━━━━━━━━━━━━━━━━━━━━\u001b[0m\u001b[37m\u001b[0m \u001b[1m1s\u001b[0m 30ms/step - accuracy: 0.8026 - loss: 0.0393 - precision: 0.9383 - recall: 0.7101 - val_accuracy: 0.7485 - val_loss: 0.0399 - val_precision: 0.9685 - val_recall: 0.5874\n",
      "Epoch 33/200\n",
      "\u001b[1m40/40\u001b[0m \u001b[32m━━━━━━━━━━━━━━━━━━━━\u001b[0m\u001b[37m\u001b[0m \u001b[1m1s\u001b[0m 30ms/step - accuracy: 0.7793 - loss: 0.0406 - precision: 0.9479 - recall: 0.6618 - val_accuracy: 0.8204 - val_loss: 0.0366 - val_precision: 0.9418 - val_recall: 0.7372\n",
      "Epoch 34/200\n",
      "\u001b[1m40/40\u001b[0m \u001b[32m━━━━━━━━━━━━━━━━━━━━\u001b[0m\u001b[37m\u001b[0m \u001b[1m1s\u001b[0m 30ms/step - accuracy: 0.8009 - loss: 0.0394 - precision: 0.9430 - recall: 0.7013 - val_accuracy: 0.8169 - val_loss: 0.0369 - val_precision: 0.9499 - val_recall: 0.7239\n",
      "Epoch 35/200\n",
      "\u001b[1m40/40\u001b[0m \u001b[32m━━━━━━━━━━━━━━━━━━━━\u001b[0m\u001b[37m\u001b[0m \u001b[1m1s\u001b[0m 30ms/step - accuracy: 0.8164 - loss: 0.0379 - precision: 0.9493 - recall: 0.7240 - val_accuracy: 0.7810 - val_loss: 0.0376 - val_precision: 0.9531 - val_recall: 0.6564\n",
      "Epoch 36/200\n",
      "\u001b[1m40/40\u001b[0m \u001b[32m━━━━━━━━━━━━━━━━━━━━\u001b[0m\u001b[37m\u001b[0m \u001b[1m1s\u001b[0m 30ms/step - accuracy: 0.7977 - loss: 0.0394 - precision: 0.9420 - recall: 0.6964 - val_accuracy: 0.8135 - val_loss: 0.0368 - val_precision: 0.9495 - val_recall: 0.7181\n",
      "Epoch 37/200\n",
      "\u001b[1m40/40\u001b[0m \u001b[32m━━━━━━━━━━━━━━━━━━━━\u001b[0m\u001b[37m\u001b[0m \u001b[1m1s\u001b[0m 30ms/step - accuracy: 0.8091 - loss: 0.0384 - precision: 0.9418 - recall: 0.7130 - val_accuracy: 0.8435 - val_loss: 0.0378 - val_precision: 0.9446 - val_recall: 0.7768\n",
      "Epoch 38/200\n",
      "\u001b[1m40/40\u001b[0m \u001b[32m━━━━━━━━━━━━━━━━━━━━\u001b[0m\u001b[37m\u001b[0m \u001b[1m1s\u001b[0m 31ms/step - accuracy: 0.8068 - loss: 0.0389 - precision: 0.9366 - recall: 0.7191 - val_accuracy: 0.7750 - val_loss: 0.0379 - val_precision: 0.9604 - val_recall: 0.6402\n",
      "Epoch 39/200\n",
      "\u001b[1m40/40\u001b[0m \u001b[32m━━━━━━━━━━━━━━━━━━━━\u001b[0m\u001b[37m\u001b[0m \u001b[1m1s\u001b[0m 32ms/step - accuracy: 0.7954 - loss: 0.0379 - precision: 0.9496 - recall: 0.6849 - val_accuracy: 0.7964 - val_loss: 0.0362 - val_precision: 0.9567 - val_recall: 0.6814\n",
      "Epoch 40/200\n",
      "\u001b[1m40/40\u001b[0m \u001b[32m━━━━━━━━━━━━━━━━━━━━\u001b[0m\u001b[37m\u001b[0m \u001b[1m1s\u001b[0m 32ms/step - accuracy: 0.8133 - loss: 0.0368 - precision: 0.9527 - recall: 0.7160 - val_accuracy: 0.8375 - val_loss: 0.0380 - val_precision: 0.9408 - val_recall: 0.7695\n",
      "Epoch 41/200\n",
      "\u001b[1m40/40\u001b[0m \u001b[32m━━━━━━━━━━━━━━━━━━━━\u001b[0m\u001b[37m\u001b[0m \u001b[1m1s\u001b[0m 30ms/step - accuracy: 0.8171 - loss: 0.0373 - precision: 0.9438 - recall: 0.7291 - val_accuracy: 0.8272 - val_loss: 0.0370 - val_precision: 0.9510 - val_recall: 0.7416\n",
      "Epoch 42/200\n",
      "\u001b[1m40/40\u001b[0m \u001b[32m━━━━━━━━━━━━━━━━━━━━\u001b[0m\u001b[37m\u001b[0m \u001b[1m1s\u001b[0m 30ms/step - accuracy: 0.8179 - loss: 0.0363 - precision: 0.9522 - recall: 0.7229 - val_accuracy: 0.8109 - val_loss: 0.0370 - val_precision: 0.9545 - val_recall: 0.7093\n",
      "Epoch 43/200\n",
      "\u001b[1m40/40\u001b[0m \u001b[32m━━━━━━━━━━━━━━━━━━━━\u001b[0m\u001b[37m\u001b[0m \u001b[1m1s\u001b[0m 30ms/step - accuracy: 0.8084 - loss: 0.0374 - precision: 0.9429 - recall: 0.7104 - val_accuracy: 0.8161 - val_loss: 0.0363 - val_precision: 0.9587 - val_recall: 0.7151\n",
      "Epoch 44/200\n",
      "\u001b[1m40/40\u001b[0m \u001b[32m━━━━━━━━━━━━━━━━━━━━\u001b[0m\u001b[37m\u001b[0m \u001b[1m1s\u001b[0m 30ms/step - accuracy: 0.8255 - loss: 0.0345 - precision: 0.9519 - recall: 0.7328 - val_accuracy: 0.8417 - val_loss: 0.0380 - val_precision: 0.9351 - val_recall: 0.7827\n",
      "Epoch 45/200\n",
      "\u001b[1m40/40\u001b[0m \u001b[32m━━━━━━━━━━━━━━━━━━━━\u001b[0m\u001b[37m\u001b[0m \u001b[1m1s\u001b[0m 30ms/step - accuracy: 0.8153 - loss: 0.0383 - precision: 0.9355 - recall: 0.7263 - val_accuracy: 0.8529 - val_loss: 0.0387 - val_precision: 0.9396 - val_recall: 0.7988\n",
      "Epoch 46/200\n",
      "\u001b[1m40/40\u001b[0m \u001b[32m━━━━━━━━━━━━━━━━━━━━\u001b[0m\u001b[37m\u001b[0m \u001b[1m1s\u001b[0m 30ms/step - accuracy: 0.8278 - loss: 0.0356 - precision: 0.9505 - recall: 0.7413 - val_accuracy: 0.7861 - val_loss: 0.0364 - val_precision: 0.9615 - val_recall: 0.6593\n",
      "Epoch 47/200\n",
      "\u001b[1m40/40\u001b[0m \u001b[32m━━━━━━━━━━━━━━━━━━━━\u001b[0m\u001b[37m\u001b[0m \u001b[1m1s\u001b[0m 30ms/step - accuracy: 0.8187 - loss: 0.0349 - precision: 0.9568 - recall: 0.7221 - val_accuracy: 0.8144 - val_loss: 0.0373 - val_precision: 0.9585 - val_recall: 0.7122\n",
      "Epoch 48/200\n",
      "\u001b[1m40/40\u001b[0m \u001b[32m━━━━━━━━━━━━━━━━━━━━\u001b[0m\u001b[37m\u001b[0m \u001b[1m1s\u001b[0m 30ms/step - accuracy: 0.8179 - loss: 0.0350 - precision: 0.9607 - recall: 0.7191 - val_accuracy: 0.7998 - val_loss: 0.0366 - val_precision: 0.9647 - val_recall: 0.6814\n",
      "Epoch 49/200\n",
      "\u001b[1m40/40\u001b[0m \u001b[32m━━━━━━━━━━━━━━━━━━━━\u001b[0m\u001b[37m\u001b[0m \u001b[1m1s\u001b[0m 30ms/step - accuracy: 0.8222 - loss: 0.0354 - precision: 0.9553 - recall: 0.7302 - val_accuracy: 0.8289 - val_loss: 0.0362 - val_precision: 0.9495 - val_recall: 0.7460\n",
      "Epoch 50/200\n",
      "\u001b[1m40/40\u001b[0m \u001b[32m━━━━━━━━━━━━━━━━━━━━\u001b[0m\u001b[37m\u001b[0m \u001b[1m1s\u001b[0m 30ms/step - accuracy: 0.8289 - loss: 0.0341 - precision: 0.9535 - recall: 0.7415 - val_accuracy: 0.8263 - val_loss: 0.0377 - val_precision: 0.9361 - val_recall: 0.7533\n",
      "Epoch 51/200\n",
      "\u001b[1m40/40\u001b[0m \u001b[32m━━━━━━━━━━━━━━━━━━━━\u001b[0m\u001b[37m\u001b[0m \u001b[1m1s\u001b[0m 30ms/step - accuracy: 0.8231 - loss: 0.0348 - precision: 0.9586 - recall: 0.7276 - val_accuracy: 0.8041 - val_loss: 0.0367 - val_precision: 0.9538 - val_recall: 0.6975\n",
      "Epoch 52/200\n",
      "\u001b[1m40/40\u001b[0m \u001b[32m━━━━━━━━━━━━━━━━━━━━\u001b[0m\u001b[37m\u001b[0m \u001b[1m1s\u001b[0m 30ms/step - accuracy: 0.8297 - loss: 0.0342 - precision: 0.9515 - recall: 0.7450 - val_accuracy: 0.8383 - val_loss: 0.0358 - val_precision: 0.9393 - val_recall: 0.7724\n",
      "Epoch 53/200\n",
      "\u001b[1m40/40\u001b[0m \u001b[32m━━━━━━━━━━━━━━━━━━━━\u001b[0m\u001b[37m\u001b[0m \u001b[1m1s\u001b[0m 30ms/step - accuracy: 0.8333 - loss: 0.0343 - precision: 0.9507 - recall: 0.7515 - val_accuracy: 0.8580 - val_loss: 0.0380 - val_precision: 0.9402 - val_recall: 0.8076\n",
      "Epoch 54/200\n",
      "\u001b[1m40/40\u001b[0m \u001b[32m━━━━━━━━━━━━━━━━━━━━\u001b[0m\u001b[37m\u001b[0m \u001b[1m1s\u001b[0m 30ms/step - accuracy: 0.8352 - loss: 0.0325 - precision: 0.9564 - recall: 0.7536 - val_accuracy: 0.8417 - val_loss: 0.0374 - val_precision: 0.9526 - val_recall: 0.7665\n",
      "Epoch 55/200\n",
      "\u001b[1m40/40\u001b[0m \u001b[32m━━━━━━━━━━━━━━━━━━━━\u001b[0m\u001b[37m\u001b[0m \u001b[1m1s\u001b[0m 30ms/step - accuracy: 0.8335 - loss: 0.0335 - precision: 0.9600 - recall: 0.7443 - val_accuracy: 0.8298 - val_loss: 0.0374 - val_precision: 0.9446 - val_recall: 0.7518\n",
      "Epoch 56/200\n",
      "\u001b[1m40/40\u001b[0m \u001b[32m━━━━━━━━━━━━━━━━━━━━\u001b[0m\u001b[37m\u001b[0m \u001b[1m1s\u001b[0m 30ms/step - accuracy: 0.8329 - loss: 0.0330 - precision: 0.9529 - recall: 0.7508 - val_accuracy: 0.8315 - val_loss: 0.0370 - val_precision: 0.9432 - val_recall: 0.7562\n",
      "Epoch 57/200\n",
      "\u001b[1m40/40\u001b[0m \u001b[32m━━━━━━━━━━━━━━━━━━━━\u001b[0m\u001b[37m\u001b[0m \u001b[1m1s\u001b[0m 30ms/step - accuracy: 0.8353 - loss: 0.0321 - precision: 0.9607 - recall: 0.7479 - val_accuracy: 0.8417 - val_loss: 0.0379 - val_precision: 0.9477 - val_recall: 0.7709\n",
      "Epoch 58/200\n",
      "\u001b[1m40/40\u001b[0m \u001b[32m━━━━━━━━━━━━━━━━━━━━\u001b[0m\u001b[37m\u001b[0m \u001b[1m1s\u001b[0m 30ms/step - accuracy: 0.8492 - loss: 0.0323 - precision: 0.9609 - recall: 0.7694 - val_accuracy: 0.8340 - val_loss: 0.0354 - val_precision: 0.9551 - val_recall: 0.7504\n",
      "Epoch 59/200\n",
      "\u001b[1m40/40\u001b[0m \u001b[32m━━━━━━━━━━━━━━━━━━━━\u001b[0m\u001b[37m\u001b[0m \u001b[1m1s\u001b[0m 30ms/step - accuracy: 0.8417 - loss: 0.0321 - precision: 0.9633 - recall: 0.7576 - val_accuracy: 0.8623 - val_loss: 0.0382 - val_precision: 0.9348 - val_recall: 0.8209\n",
      "Epoch 60/200\n",
      "\u001b[1m40/40\u001b[0m \u001b[32m━━━━━━━━━━━━━━━━━━━━\u001b[0m\u001b[37m\u001b[0m \u001b[1m1s\u001b[0m 30ms/step - accuracy: 0.8383 - loss: 0.0318 - precision: 0.9602 - recall: 0.7520 - val_accuracy: 0.8392 - val_loss: 0.0359 - val_precision: 0.9506 - val_recall: 0.7636\n",
      "Epoch 61/200\n",
      "\u001b[1m40/40\u001b[0m \u001b[32m━━━━━━━━━━━━━━━━━━━━\u001b[0m\u001b[37m\u001b[0m \u001b[1m1s\u001b[0m 30ms/step - accuracy: 0.8379 - loss: 0.0319 - precision: 0.9651 - recall: 0.7507 - val_accuracy: 0.8563 - val_loss: 0.0405 - val_precision: 0.9430 - val_recall: 0.8018\n",
      "Epoch 62/200\n",
      "\u001b[1m40/40\u001b[0m \u001b[32m━━━━━━━━━━━━━━━━━━━━\u001b[0m\u001b[37m\u001b[0m \u001b[1m1s\u001b[0m 31ms/step - accuracy: 0.8439 - loss: 0.0319 - precision: 0.9539 - recall: 0.7667 - val_accuracy: 0.8400 - val_loss: 0.0368 - val_precision: 0.9491 - val_recall: 0.7665\n",
      "Epoch 63/200\n",
      "\u001b[1m40/40\u001b[0m \u001b[32m━━━━━━━━━━━━━━━━━━━━\u001b[0m\u001b[37m\u001b[0m \u001b[1m1s\u001b[0m 31ms/step - accuracy: 0.8465 - loss: 0.0317 - precision: 0.9617 - recall: 0.7661 - val_accuracy: 0.8272 - val_loss: 0.0354 - val_precision: 0.9493 - val_recall: 0.7430\n",
      "Epoch 64/200\n",
      "\u001b[1m40/40\u001b[0m \u001b[32m━━━━━━━━━━━━━━━━━━━━\u001b[0m\u001b[37m\u001b[0m \u001b[1m1s\u001b[0m 30ms/step - accuracy: 0.8500 - loss: 0.0314 - precision: 0.9680 - recall: 0.7677 - val_accuracy: 0.8460 - val_loss: 0.0365 - val_precision: 0.9434 - val_recall: 0.7827\n",
      "Epoch 65/200\n",
      "\u001b[1m40/40\u001b[0m \u001b[32m━━━━━━━━━━━━━━━━━━━━\u001b[0m\u001b[37m\u001b[0m \u001b[1m1s\u001b[0m 34ms/step - accuracy: 0.8420 - loss: 0.0312 - precision: 0.9625 - recall: 0.7548 - val_accuracy: 0.8623 - val_loss: 0.0397 - val_precision: 0.9276 - val_recall: 0.8282\n",
      "Epoch 66/200\n",
      "\u001b[1m40/40\u001b[0m \u001b[32m━━━━━━━━━━━━━━━━━━━━\u001b[0m\u001b[37m\u001b[0m \u001b[1m1s\u001b[0m 31ms/step - accuracy: 0.8651 - loss: 0.0284 - precision: 0.9644 - recall: 0.8032 - val_accuracy: 0.8169 - val_loss: 0.0372 - val_precision: 0.9587 - val_recall: 0.7166\n",
      "Epoch 67/200\n",
      "\u001b[1m40/40\u001b[0m \u001b[32m━━━━━━━━━━━━━━━━━━━━\u001b[0m\u001b[37m\u001b[0m \u001b[1m1s\u001b[0m 30ms/step - accuracy: 0.8476 - loss: 0.0307 - precision: 0.9692 - recall: 0.7638 - val_accuracy: 0.8426 - val_loss: 0.0357 - val_precision: 0.9477 - val_recall: 0.7724\n",
      "Epoch 68/200\n",
      "\u001b[1m40/40\u001b[0m \u001b[32m━━━━━━━━━━━━━━━━━━━━\u001b[0m\u001b[37m\u001b[0m \u001b[1m1s\u001b[0m 30ms/step - accuracy: 0.8429 - loss: 0.0308 - precision: 0.9647 - recall: 0.7575 - val_accuracy: 0.8529 - val_loss: 0.0365 - val_precision: 0.9537 - val_recall: 0.7856\n",
      "Epoch 69/200\n",
      "\u001b[1m40/40\u001b[0m \u001b[32m━━━━━━━━━━━━━━━━━━━━\u001b[0m\u001b[37m\u001b[0m \u001b[1m1s\u001b[0m 30ms/step - accuracy: 0.8577 - loss: 0.0297 - precision: 0.9674 - recall: 0.7816 - val_accuracy: 0.8229 - val_loss: 0.0361 - val_precision: 0.9472 - val_recall: 0.7372\n",
      "Epoch 70/200\n",
      "\u001b[1m40/40\u001b[0m \u001b[32m━━━━━━━━━━━━━━━━━━━━\u001b[0m\u001b[37m\u001b[0m \u001b[1m1s\u001b[0m 30ms/step - accuracy: 0.8552 - loss: 0.0292 - precision: 0.9661 - recall: 0.7759 - val_accuracy: 0.8460 - val_loss: 0.0375 - val_precision: 0.9465 - val_recall: 0.7797\n",
      "Epoch 71/200\n",
      "\u001b[1m40/40\u001b[0m \u001b[32m━━━━━━━━━━━━━━━━━━━━\u001b[0m\u001b[37m\u001b[0m \u001b[1m1s\u001b[0m 30ms/step - accuracy: 0.8553 - loss: 0.0296 - precision: 0.9622 - recall: 0.7804 - val_accuracy: 0.8554 - val_loss: 0.0377 - val_precision: 0.9491 - val_recall: 0.7944\n",
      "Epoch 72/200\n",
      "\u001b[1m40/40\u001b[0m \u001b[32m━━━━━━━━━━━━━━━━━━━━\u001b[0m\u001b[37m\u001b[0m \u001b[1m1s\u001b[0m 30ms/step - accuracy: 0.8558 - loss: 0.0298 - precision: 0.9660 - recall: 0.7808 - val_accuracy: 0.8435 - val_loss: 0.0372 - val_precision: 0.9527 - val_recall: 0.7695\n",
      "Epoch 73/200\n",
      "\u001b[1m40/40\u001b[0m \u001b[32m━━━━━━━━━━━━━━━━━━━━\u001b[0m\u001b[37m\u001b[0m \u001b[1m1s\u001b[0m 30ms/step - accuracy: 0.8651 - loss: 0.0282 - precision: 0.9605 - recall: 0.8014 - val_accuracy: 0.8486 - val_loss: 0.0368 - val_precision: 0.9452 - val_recall: 0.7856\n",
      "Epoch 74/200\n",
      "\u001b[1m40/40\u001b[0m \u001b[32m━━━━━━━━━━━━━━━━━━━━\u001b[0m\u001b[37m\u001b[0m \u001b[1m1s\u001b[0m 30ms/step - accuracy: 0.8546 - loss: 0.0293 - precision: 0.9623 - recall: 0.7830 - val_accuracy: 0.8477 - val_loss: 0.0377 - val_precision: 0.9420 - val_recall: 0.7871\n",
      "Epoch 75/200\n",
      "\u001b[1m40/40\u001b[0m \u001b[32m━━━━━━━━━━━━━━━━━━━━\u001b[0m\u001b[37m\u001b[0m \u001b[1m1s\u001b[0m 30ms/step - accuracy: 0.8631 - loss: 0.0277 - precision: 0.9670 - recall: 0.7924 - val_accuracy: 0.8614 - val_loss: 0.0397 - val_precision: 0.9376 - val_recall: 0.8164\n",
      "Epoch 76/200\n",
      "\u001b[1m40/40\u001b[0m \u001b[32m━━━━━━━━━━━━━━━━━━━━\u001b[0m\u001b[37m\u001b[0m \u001b[1m1s\u001b[0m 30ms/step - accuracy: 0.8544 - loss: 0.0298 - precision: 0.9594 - recall: 0.7861 - val_accuracy: 0.8281 - val_loss: 0.0385 - val_precision: 0.9528 - val_recall: 0.7416\n",
      "Epoch 77/200\n",
      "\u001b[1m40/40\u001b[0m \u001b[32m━━━━━━━━━━━━━━━━━━━━\u001b[0m\u001b[37m\u001b[0m \u001b[1m1s\u001b[0m 30ms/step - accuracy: 0.8534 - loss: 0.0292 - precision: 0.9699 - recall: 0.7737 - val_accuracy: 0.8221 - val_loss: 0.0366 - val_precision: 0.9539 - val_recall: 0.7298\n",
      "Epoch 78/200\n",
      "\u001b[1m40/40\u001b[0m \u001b[32m━━━━━━━━━━━━━━━━━━━━\u001b[0m\u001b[37m\u001b[0m \u001b[1m1s\u001b[0m 30ms/step - accuracy: 0.8507 - loss: 0.0299 - precision: 0.9634 - recall: 0.7724 - val_accuracy: 0.8520 - val_loss: 0.0372 - val_precision: 0.9504 - val_recall: 0.7871\n",
      "Epoch 79/200\n",
      "\u001b[1m40/40\u001b[0m \u001b[32m━━━━━━━━━━━━━━━━━━━━\u001b[0m\u001b[37m\u001b[0m \u001b[1m1s\u001b[0m 30ms/step - accuracy: 0.8637 - loss: 0.0286 - precision: 0.9632 - recall: 0.7947 - val_accuracy: 0.8443 - val_loss: 0.0374 - val_precision: 0.9479 - val_recall: 0.7753\n",
      "Epoch 80/200\n",
      "\u001b[1m40/40\u001b[0m \u001b[32m━━━━━━━━━━━━━━━━━━━━\u001b[0m\u001b[37m\u001b[0m \u001b[1m1s\u001b[0m 30ms/step - accuracy: 0.8696 - loss: 0.0280 - precision: 0.9634 - recall: 0.8063 - val_accuracy: 0.8477 - val_loss: 0.0375 - val_precision: 0.9405 - val_recall: 0.7885\n",
      "Epoch 81/200\n",
      "\u001b[1m40/40\u001b[0m \u001b[32m━━━━━━━━━━━━━━━━━━━━\u001b[0m\u001b[37m\u001b[0m \u001b[1m1s\u001b[0m 30ms/step - accuracy: 0.8632 - loss: 0.0291 - precision: 0.9612 - recall: 0.7987 - val_accuracy: 0.8315 - val_loss: 0.0390 - val_precision: 0.9449 - val_recall: 0.7548\n",
      "Epoch 82/200\n",
      "\u001b[1m40/40\u001b[0m \u001b[32m━━━━━━━━━━━━━━━━━━━━\u001b[0m\u001b[37m\u001b[0m \u001b[1m1s\u001b[0m 30ms/step - accuracy: 0.8665 - loss: 0.0275 - precision: 0.9691 - recall: 0.7967 - val_accuracy: 0.8358 - val_loss: 0.0368 - val_precision: 0.9486 - val_recall: 0.7592\n",
      "Epoch 83/200\n",
      "\u001b[1m40/40\u001b[0m \u001b[32m━━━━━━━━━━━━━━━━━━━━\u001b[0m\u001b[37m\u001b[0m \u001b[1m1s\u001b[0m 30ms/step - accuracy: 0.8647 - loss: 0.0272 - precision: 0.9692 - recall: 0.7950 - val_accuracy: 0.8589 - val_loss: 0.0391 - val_precision: 0.9314 - val_recall: 0.8179\n",
      "Epoch 84/200\n",
      "\u001b[1m40/40\u001b[0m \u001b[32m━━━━━━━━━━━━━━━━━━━━\u001b[0m\u001b[37m\u001b[0m \u001b[1m1s\u001b[0m 30ms/step - accuracy: 0.8718 - loss: 0.0268 - precision: 0.9643 - recall: 0.8059 - val_accuracy: 0.8640 - val_loss: 0.0394 - val_precision: 0.9365 - val_recall: 0.8223\n",
      "Epoch 85/200\n",
      "\u001b[1m40/40\u001b[0m \u001b[32m━━━━━━━━━━━━━━━━━━━━\u001b[0m\u001b[37m\u001b[0m \u001b[1m1s\u001b[0m 30ms/step - accuracy: 0.8780 - loss: 0.0270 - precision: 0.9693 - recall: 0.8166 - val_accuracy: 0.8589 - val_loss: 0.0395 - val_precision: 0.9403 - val_recall: 0.8091\n",
      "Epoch 86/200\n",
      "\u001b[1m40/40\u001b[0m \u001b[32m━━━━━━━━━━━━━━━━━━━━\u001b[0m\u001b[37m\u001b[0m \u001b[1m1s\u001b[0m 30ms/step - accuracy: 0.8733 - loss: 0.0258 - precision: 0.9673 - recall: 0.8075 - val_accuracy: 0.8529 - val_loss: 0.0389 - val_precision: 0.9396 - val_recall: 0.7988\n",
      "Epoch 87/200\n",
      "\u001b[1m40/40\u001b[0m \u001b[32m━━━━━━━━━━━━━━━━━━━━\u001b[0m\u001b[37m\u001b[0m \u001b[1m1s\u001b[0m 30ms/step - accuracy: 0.8635 - loss: 0.0269 - precision: 0.9693 - recall: 0.7913 - val_accuracy: 0.8340 - val_loss: 0.0367 - val_precision: 0.9534 - val_recall: 0.7518\n",
      "Epoch 88/200\n",
      "\u001b[1m40/40\u001b[0m \u001b[32m━━━━━━━━━━━━━━━━━━━━\u001b[0m\u001b[37m\u001b[0m \u001b[1m1s\u001b[0m 30ms/step - accuracy: 0.8754 - loss: 0.0262 - precision: 0.9711 - recall: 0.8096 - val_accuracy: 0.8563 - val_loss: 0.0432 - val_precision: 0.9254 - val_recall: 0.8194\n",
      "Epoch 89/200\n",
      "\u001b[1m40/40\u001b[0m \u001b[32m━━━━━━━━━━━━━━━━━━━━\u001b[0m\u001b[37m\u001b[0m \u001b[1m1s\u001b[0m 30ms/step - accuracy: 0.8710 - loss: 0.0271 - precision: 0.9665 - recall: 0.8068 - val_accuracy: 0.8400 - val_loss: 0.0387 - val_precision: 0.9427 - val_recall: 0.7724\n",
      "Epoch 90/200\n",
      "\u001b[1m40/40\u001b[0m \u001b[32m━━━━━━━━━━━━━━━━━━━━\u001b[0m\u001b[37m\u001b[0m \u001b[1m1s\u001b[0m 30ms/step - accuracy: 0.8785 - loss: 0.0243 - precision: 0.9739 - recall: 0.8151 - val_accuracy: 0.8486 - val_loss: 0.0393 - val_precision: 0.9437 - val_recall: 0.7871\n",
      "Epoch 91/200\n",
      "\u001b[1m40/40\u001b[0m \u001b[32m━━━━━━━━━━━━━━━━━━━━\u001b[0m\u001b[37m\u001b[0m \u001b[1m1s\u001b[0m 33ms/step - accuracy: 0.8893 - loss: 0.0241 - precision: 0.9729 - recall: 0.8352 - val_accuracy: 0.8503 - val_loss: 0.0391 - val_precision: 0.9362 - val_recall: 0.7974\n",
      "Epoch 92/200\n",
      "\u001b[1m40/40\u001b[0m \u001b[32m━━━━━━━━━━━━━━━━━━━━\u001b[0m\u001b[37m\u001b[0m \u001b[1m1s\u001b[0m 30ms/step - accuracy: 0.8764 - loss: 0.0263 - precision: 0.9708 - recall: 0.8124 - val_accuracy: 0.8477 - val_loss: 0.0405 - val_precision: 0.9420 - val_recall: 0.7871\n",
      "Epoch 93/200\n",
      "\u001b[1m40/40\u001b[0m \u001b[32m━━━━━━━━━━━━━━━━━━━━\u001b[0m\u001b[37m\u001b[0m \u001b[1m1s\u001b[0m 30ms/step - accuracy: 0.8753 - loss: 0.0257 - precision: 0.9701 - recall: 0.8100 - val_accuracy: 0.8597 - val_loss: 0.0444 - val_precision: 0.9217 - val_recall: 0.8297\n",
      "Epoch 94/200\n",
      "\u001b[1m40/40\u001b[0m \u001b[32m━━━━━━━━━━━━━━━━━━━━\u001b[0m\u001b[37m\u001b[0m \u001b[1m1s\u001b[0m 30ms/step - accuracy: 0.8807 - loss: 0.0253 - precision: 0.9683 - recall: 0.8212 - val_accuracy: 0.8460 - val_loss: 0.0421 - val_precision: 0.9481 - val_recall: 0.7783\n",
      "Epoch 95/200\n",
      "\u001b[1m40/40\u001b[0m \u001b[32m━━━━━━━━━━━━━━━━━━━━\u001b[0m\u001b[37m\u001b[0m \u001b[1m1s\u001b[0m 30ms/step - accuracy: 0.8847 - loss: 0.0246 - precision: 0.9761 - recall: 0.8209 - val_accuracy: 0.8554 - val_loss: 0.0437 - val_precision: 0.9197 - val_recall: 0.8238\n",
      "Epoch 96/200\n",
      "\u001b[1m40/40\u001b[0m \u001b[32m━━━━━━━━━━━━━━━━━━━━\u001b[0m\u001b[37m\u001b[0m \u001b[1m1s\u001b[0m 30ms/step - accuracy: 0.8832 - loss: 0.0245 - precision: 0.9722 - recall: 0.8233 - val_accuracy: 0.8597 - val_loss: 0.0424 - val_precision: 0.9217 - val_recall: 0.8297\n",
      "Epoch 97/200\n",
      "\u001b[1m40/40\u001b[0m \u001b[32m━━━━━━━━━━━━━━━━━━━━\u001b[0m\u001b[37m\u001b[0m \u001b[1m1s\u001b[0m 30ms/step - accuracy: 0.8901 - loss: 0.0239 - precision: 0.9704 - recall: 0.8371 - val_accuracy: 0.8597 - val_loss: 0.0428 - val_precision: 0.9316 - val_recall: 0.8194\n",
      "Epoch 98/200\n",
      "\u001b[1m40/40\u001b[0m \u001b[32m━━━━━━━━━━━━━━━━━━━━\u001b[0m\u001b[37m\u001b[0m \u001b[1m1s\u001b[0m 31ms/step - accuracy: 0.8848 - loss: 0.0245 - precision: 0.9675 - recall: 0.8320 - val_accuracy: 0.8306 - val_loss: 0.0382 - val_precision: 0.9448 - val_recall: 0.7533\n",
      "Epoch 99/200\n",
      "\u001b[1m40/40\u001b[0m \u001b[32m━━━━━━━━━━━━━━━━━━━━\u001b[0m\u001b[37m\u001b[0m \u001b[1m1s\u001b[0m 30ms/step - accuracy: 0.8741 - loss: 0.0246 - precision: 0.9736 - recall: 0.8054 - val_accuracy: 0.8494 - val_loss: 0.0408 - val_precision: 0.9376 - val_recall: 0.7944\n",
      "Epoch 100/200\n",
      "\u001b[1m40/40\u001b[0m \u001b[32m━━━━━━━━━━━━━━━━━━━━\u001b[0m\u001b[37m\u001b[0m \u001b[1m1s\u001b[0m 30ms/step - accuracy: 0.8922 - loss: 0.0232 - precision: 0.9720 - recall: 0.8394 - val_accuracy: 0.8503 - val_loss: 0.0386 - val_precision: 0.9392 - val_recall: 0.7944\n",
      "Epoch 101/200\n",
      "\u001b[1m40/40\u001b[0m \u001b[32m━━━━━━━━━━━━━━━━━━━━\u001b[0m\u001b[37m\u001b[0m \u001b[1m1s\u001b[0m 30ms/step - accuracy: 0.8920 - loss: 0.0229 - precision: 0.9754 - recall: 0.8351 - val_accuracy: 0.8546 - val_loss: 0.0414 - val_precision: 0.9182 - val_recall: 0.8238\n",
      "Epoch 102/200\n",
      "\u001b[1m40/40\u001b[0m \u001b[32m━━━━━━━━━━━━━━━━━━━━\u001b[0m\u001b[37m\u001b[0m \u001b[1m1s\u001b[0m 30ms/step - accuracy: 0.8919 - loss: 0.0232 - precision: 0.9719 - recall: 0.8388 - val_accuracy: 0.8392 - val_loss: 0.0410 - val_precision: 0.9302 - val_recall: 0.7827\n",
      "Epoch 103/200\n",
      "\u001b[1m40/40\u001b[0m \u001b[32m━━━━━━━━━━━━━━━━━━━━\u001b[0m\u001b[37m\u001b[0m \u001b[1m1s\u001b[0m 31ms/step - accuracy: 0.8887 - loss: 0.0244 - precision: 0.9738 - recall: 0.8322 - val_accuracy: 0.8392 - val_loss: 0.0389 - val_precision: 0.9394 - val_recall: 0.7739\n",
      "Epoch 104/200\n",
      "\u001b[1m40/40\u001b[0m \u001b[32m━━━━━━━━━━━━━━━━━━━━\u001b[0m\u001b[37m\u001b[0m \u001b[1m1s\u001b[0m 30ms/step - accuracy: 0.8879 - loss: 0.0231 - precision: 0.9745 - recall: 0.8280 - val_accuracy: 0.8383 - val_loss: 0.0396 - val_precision: 0.9393 - val_recall: 0.7724\n",
      "Epoch 104: early stopping\n",
      "pre-BiLSTM finished training\n",
      "pre-BiLSTM saved to /kaggle/working/pre-BiLSTM.h5\n"
     ]
    }
   ],
   "source": [
    "# training the models\n",
    "history = {}\n",
    "for model_name, model in models.items():\n",
    "    print('-' * 50)\n",
    "    early_stopping_f1 = EarlyStoppingF1(patience=20, mode='max', restore_best_weights=True)\n",
    "    history[model_name] = model.fit(\n",
    "        train_data, train_labels, batch_size=264, epochs=200,\n",
    "        validation_data=(test_data, test_labels), callbacks=[early_stopping_f1], verbose=1\n",
    "    )\n",
    "    print(f'{model_name} finished training')\n",
    "    save_path = f'/kaggle/working/{model_name}.h5'\n",
    "    model.save(save_path)\n",
    "    print(f'{model_name} saved to {save_path}')"
   ]
  },
  {
   "cell_type": "code",
   "execution_count": null,
   "metadata": {
    "execution": {
     "iopub.execute_input": "2025-05-11T16:31:09.435263Z",
     "iopub.status.busy": "2025-05-11T16:31:09.435013Z",
     "iopub.status.idle": "2025-05-11T16:31:12.988230Z",
     "shell.execute_reply": "2025-05-11T16:31:12.987686Z",
     "shell.execute_reply.started": "2025-05-11T16:31:09.435244Z"
    },
    "trusted": true
   },
   "outputs": [
    {
     "name": "stdout",
     "output_type": "stream",
     "text": [
      "--------------------------------------------------\n",
      "\u001b[1m37/37\u001b[0m \u001b[32m━━━━━━━━━━━━━━━━━━━━\u001b[0m\u001b[37m\u001b[0m \u001b[1m1s\u001b[0m 13ms/step\n",
      "CNN-BiLSTM finished predicting\n",
      "--------------------------------------------------\n",
      "\u001b[1m37/37\u001b[0m \u001b[32m━━━━━━━━━━━━━━━━━━━━\u001b[0m\u001b[37m\u001b[0m \u001b[1m1s\u001b[0m 16ms/step\n",
      "BiLSTM finished predicting\n",
      "--------------------------------------------------\n",
      "\u001b[1m37/37\u001b[0m \u001b[32m━━━━━━━━━━━━━━━━━━━━\u001b[0m\u001b[37m\u001b[0m \u001b[1m1s\u001b[0m 13ms/step\n",
      "pre-CNN-BiLSTM finished predicting\n",
      "--------------------------------------------------\n",
      "\u001b[1m37/37\u001b[0m \u001b[32m━━━━━━━━━━━━━━━━━━━━\u001b[0m\u001b[37m\u001b[0m \u001b[1m1s\u001b[0m 16ms/step\n",
      "pre-BiLSTM finished predicting\n"
     ]
    }
   ],
   "source": [
    "# predicting the test data\n",
    "pred = {}\n",
    "for model_name , model in models.items():\n",
    "    print('-'*50)\n",
    "    tmp = model.predict(test_data)\n",
    "    pred[model_name] = (tmp > 0.50).astype(np.int64)\n",
    "    print(f'{model_name} finished predicting')"
   ]
  },
  {
   "cell_type": "markdown",
   "metadata": {},
   "source": [
    "### Evaluating the models"
   ]
  },
  {
   "cell_type": "code",
   "execution_count": 91,
   "metadata": {
    "execution": {
     "iopub.execute_input": "2025-05-11T16:31:23.145113Z",
     "iopub.status.busy": "2025-05-11T16:31:23.144873Z",
     "iopub.status.idle": "2025-05-11T16:31:23.155746Z",
     "shell.execute_reply": "2025-05-11T16:31:23.155113Z",
     "shell.execute_reply.started": "2025-05-11T16:31:23.145095Z"
    },
    "trusted": true
   },
   "outputs": [
    {
     "name": "stdout",
     "output_type": "stream",
     "text": [
      "              precision    recall  f1-score   support\n",
      "\n",
      "           0       0.84      0.85      0.84       488\n",
      "           1       0.89      0.88      0.89       681\n",
      "\n",
      "    accuracy                           0.87      1169\n",
      "   macro avg       0.86      0.87      0.86      1169\n",
      "weighted avg       0.87      0.87      0.87      1169\n",
      "\n"
     ]
    }
   ],
   "source": [
    "print(classification_report(test_labels , pred['CNN-BiLSTM']))"
   ]
  },
  {
   "cell_type": "code",
   "execution_count": 101,
   "metadata": {
    "execution": {
     "iopub.execute_input": "2025-05-11T16:33:51.731293Z",
     "iopub.status.busy": "2025-05-11T16:33:51.730742Z",
     "iopub.status.idle": "2025-05-11T16:33:51.887103Z",
     "shell.execute_reply": "2025-05-11T16:33:51.886488Z",
     "shell.execute_reply.started": "2025-05-11T16:33:51.731271Z"
    },
    "trusted": true
   },
   "outputs": [
    {
     "data": {
      "text/plain": [
       "Text(0.5, 1.0, 'CNN-BILSTM')"
      ]
     },
     "execution_count": 101,
     "metadata": {},
     "output_type": "execute_result"
    },
    {
     "data": {
      "image/png": "[encoded data removed]",
      "text/plain": [
       "<Figure size 640x480 with 2 Axes>"
      ]
     },
     "metadata": {},
     "output_type": "display_data"
    }
   ],
   "source": [
    "conf = confusion_matrix(test_labels , pred['CNN-BiLSTM'])\n",
    "sns.heatmap(conf , annot = True , fmt = 'd' , cmap = 'Blues')\n",
    "plt.title('CNN-BILSTM')"
   ]
  },
  {
   "cell_type": "code",
   "execution_count": 92,
   "metadata": {
    "execution": {
     "iopub.execute_input": "2025-05-11T16:31:24.992361Z",
     "iopub.status.busy": "2025-05-11T16:31:24.991795Z",
     "iopub.status.idle": "2025-05-11T16:31:25.002761Z",
     "shell.execute_reply": "2025-05-11T16:31:25.001947Z",
     "shell.execute_reply.started": "2025-05-11T16:31:24.992339Z"
    },
    "trusted": true
   },
   "outputs": [
    {
     "name": "stdout",
     "output_type": "stream",
     "text": [
      "              precision    recall  f1-score   support\n",
      "\n",
      "           0       0.80      0.89      0.84       488\n",
      "           1       0.91      0.84      0.87       681\n",
      "\n",
      "    accuracy                           0.86      1169\n",
      "   macro avg       0.85      0.86      0.86      1169\n",
      "weighted avg       0.86      0.86      0.86      1169\n",
      "\n"
     ]
    }
   ],
   "source": [
    "print(classification_report(test_labels , pred['BiLSTM']))"
   ]
  },
  {
   "cell_type": "code",
   "execution_count": 102,
   "metadata": {
    "execution": {
     "iopub.execute_input": "2025-05-11T16:33:54.769719Z",
     "iopub.status.busy": "2025-05-11T16:33:54.769448Z",
     "iopub.status.idle": "2025-05-11T16:33:54.930807Z",
     "shell.execute_reply": "2025-05-11T16:33:54.930061Z",
     "shell.execute_reply.started": "2025-05-11T16:33:54.769698Z"
    },
    "trusted": true
   },
   "outputs": [
    {
     "data": {
      "text/plain": [
       "Text(0.5, 1.0, 'BILSTM')"
      ]
     },
     "execution_count": 102,
     "metadata": {},
     "output_type": "execute_result"
    },
    {
     "data": {
      "image/png": "[encoded data removed]",
      "text/plain": [
       "<Figure size 640x480 with 2 Axes>"
      ]
     },
     "metadata": {},
     "output_type": "display_data"
    }
   ],
   "source": [
    "conf = confusion_matrix(test_labels , pred['BiLSTM'])\n",
    "sns.heatmap(conf , annot = True , fmt = 'd' , cmap = 'Blues')\n",
    "plt.title('BILSTM')"
   ]
  },
  {
   "cell_type": "code",
   "execution_count": 93,
   "metadata": {
    "execution": {
     "iopub.execute_input": "2025-05-11T16:31:34.751589Z",
     "iopub.status.busy": "2025-05-11T16:31:34.751006Z",
     "iopub.status.idle": "2025-05-11T16:31:34.762572Z",
     "shell.execute_reply": "2025-05-11T16:31:34.761931Z",
     "shell.execute_reply.started": "2025-05-11T16:31:34.751565Z"
    },
    "trusted": true
   },
   "outputs": [
    {
     "name": "stdout",
     "output_type": "stream",
     "text": [
      "              precision    recall  f1-score   support\n",
      "\n",
      "           0       0.81      0.83      0.82       488\n",
      "           1       0.88      0.86      0.87       681\n",
      "\n",
      "    accuracy                           0.85      1169\n",
      "   macro avg       0.84      0.84      0.84      1169\n",
      "weighted avg       0.85      0.85      0.85      1169\n",
      "\n"
     ]
    }
   ],
   "source": [
    "print(classification_report(test_labels , pred['pre-CNN-BiLSTM']))"
   ]
  },
  {
   "cell_type": "code",
   "execution_count": 103,
   "metadata": {
    "execution": {
     "iopub.execute_input": "2025-05-11T16:33:58.283767Z",
     "iopub.status.busy": "2025-05-11T16:33:58.283218Z",
     "iopub.status.idle": "2025-05-11T16:33:58.435849Z",
     "shell.execute_reply": "2025-05-11T16:33:58.435066Z",
     "shell.execute_reply.started": "2025-05-11T16:33:58.283743Z"
    },
    "trusted": true
   },
   "outputs": [
    {
     "data": {
      "text/plain": [
       "Text(0.5, 1.0, 'pre-CNN-BiLSTM')"
      ]
     },
     "execution_count": 103,
     "metadata": {},
     "output_type": "execute_result"
    },
    {
     "data": {
      "image/png": "[encoded data removed]",
      "text/plain": [
       "<Figure size 640x480 with 2 Axes>"
      ]
     },
     "metadata": {},
     "output_type": "display_data"
    }
   ],
   "source": [
    "conf = confusion_matrix(test_labels , pred['pre-CNN-BiLSTM'])\n",
    "sns.heatmap(conf , annot = True , fmt = 'd' , cmap = 'Blues')\n",
    "plt.title('pre-CNN-BiLSTM')"
   ]
  },
  {
   "cell_type": "code",
   "execution_count": 94,
   "metadata": {
    "execution": {
     "iopub.execute_input": "2025-05-11T16:31:37.588009Z",
     "iopub.status.busy": "2025-05-11T16:31:37.587410Z",
     "iopub.status.idle": "2025-05-11T16:31:37.599449Z",
     "shell.execute_reply": "2025-05-11T16:31:37.598687Z",
     "shell.execute_reply.started": "2025-05-11T16:31:37.587981Z"
    },
    "trusted": true
   },
   "outputs": [
    {
     "name": "stdout",
     "output_type": "stream",
     "text": [
      "              precision    recall  f1-score   support\n",
      "\n",
      "           0       0.79      0.92      0.85       488\n",
      "           1       0.94      0.82      0.88       681\n",
      "\n",
      "    accuracy                           0.86      1169\n",
      "   macro avg       0.86      0.87      0.86      1169\n",
      "weighted avg       0.87      0.86      0.86      1169\n",
      "\n"
     ]
    }
   ],
   "source": [
    "print(classification_report(test_labels , pred['pre-BiLSTM']))"
   ]
  },
  {
   "cell_type": "code",
   "execution_count": 104,
   "metadata": {
    "execution": {
     "iopub.execute_input": "2025-05-11T16:34:01.684624Z",
     "iopub.status.busy": "2025-05-11T16:34:01.684051Z",
     "iopub.status.idle": "2025-05-11T16:34:01.836117Z",
     "shell.execute_reply": "2025-05-11T16:34:01.835561Z",
     "shell.execute_reply.started": "2025-05-11T16:34:01.684594Z"
    },
    "trusted": true
   },
   "outputs": [
    {
     "data": {
      "text/plain": [
       "Text(0.5, 1.0, 'pre-BiLSTM')"
      ]
     },
     "execution_count": 104,
     "metadata": {},
     "output_type": "execute_result"
    },
    {
     "data": {
      "image/png": "[encoded data removed]",
      "text/plain": [
       "<Figure size 640x480 with 2 Axes>"
      ]
     },
     "metadata": {},
     "output_type": "display_data"
    }
   ],
   "source": [
    "conf = confusion_matrix(test_labels , pred['pre-BiLSTM'])\n",
    "sns.heatmap(conf , annot = True , fmt = 'd' , cmap = 'Blues')\n",
    "plt.title('pre-BiLSTM')"
   ]
  },
  {
   "cell_type": "code",
   "execution_count": 107,
   "metadata": {
    "execution": {
     "iopub.execute_input": "2025-05-11T16:38:24.146029Z",
     "iopub.status.busy": "2025-05-11T16:38:24.145410Z",
     "iopub.status.idle": "2025-05-11T16:38:24.162888Z",
     "shell.execute_reply": "2025-05-11T16:38:24.162160Z",
     "shell.execute_reply.started": "2025-05-11T16:38:24.146005Z"
    },
    "trusted": true
   },
   "outputs": [
    {
     "name": "stdout",
     "output_type": "stream",
     "text": [
      "--------------------------------------------------\n",
      "CNN-BiLSTM 0.88659793814433\n",
      "--------------------------------------------------\n",
      "BiLSTM 0.8739495798319329\n",
      "--------------------------------------------------\n",
      "pre-CNN-BiLSTM 0.8664688427299704\n",
      "--------------------------------------------------\n",
      "pre-BiLSTM 0.8756841282251759\n",
      "--------------------------------------------------\n",
      "Best model in terms of f1-score is CNN-BiLSTM with score of : 0.8866\n"
     ]
    }
   ],
   "source": [
    "best = -np.inf\n",
    "best_model = ''\n",
    "for model_name , model in models.items():\n",
    "    print('-'*50)\n",
    "    tmp = f1_score(test_labels , pred[model_name])\n",
    "    if tmp > best:\n",
    "        best = tmp\n",
    "        best_model = model_name\n",
    "    print(model_name,f1_score(test_labels , pred[model_name]))\n",
    "print('-' * 50)\n",
    "print(f'Best model in terms of f1-score is {best_model} with score of : {best:.4f}')"
   ]
  },
  {
   "cell_type": "code",
   "execution_count": null,
   "metadata": {
    "execution": {
     "iopub.status.busy": "2025-05-11T16:31:13.133018Z",
     "iopub.status.idle": "2025-05-11T16:31:13.133330Z",
     "shell.execute_reply": "2025-05-11T16:31:13.133176Z",
     "shell.execute_reply.started": "2025-05-11T16:31:13.133163Z"
    },
    "trusted": true
   },
   "outputs": [],
   "source": [
    "import pickle\n",
    "\n",
    "# Save the tokenizer\n",
    "with open('/kaggle/working/bi_tokenizer.pkl', 'wb') as handle:\n",
    "    pickle.dump(tokenizer, handle, protocol=pickle.HIGHEST_PROTOCOL)"
   ]
  }
 ],
 "metadata": {
  "kaggle": {
   "accelerator": "nvidiaTeslaT4",
   "dataSources": [
    {
     "datasetId": 7370526,
     "sourceId": 11741026,
     "sourceType": "datasetVersion"
    }
   ],
   "dockerImageVersionId": 31011,
   "isGpuEnabled": true,
   "isInternetEnabled": true,
   "language": "python",
   "sourceType": "notebook"
  },
  "kernelspec": {
   "display_name": "Python 3",
   "language": "python",
   "name": "python3"
  },
  "language_info": {
   "codemirror_mode": {
    "name": "ipython",
    "version": 3
   },
   "file_extension": ".py",
   "mimetype": "text/x-python",
   "name": "python",
   "nbconvert_exporter": "python",
   "pygments_lexer": "ipython3",
   "version": "3.11.11"
  }
 },
 "nbformat": 4,
 "nbformat_minor": 4
}
